{
 "cells": [
  {
   "cell_type": "code",
   "execution_count": 1,
   "id": "2c6bb58c",
   "metadata": {},
   "outputs": [],
   "source": [
    "import pandas as pd\n",
    "import numpy as np\n",
    "import matplotlib.pyplot as plt\n",
    "from statsmodels.tsa.ar_model import AutoReg"
   ]
  },
  {
   "cell_type": "code",
   "execution_count": 31,
   "id": "2061fb40",
   "metadata": {},
   "outputs": [
    {
     "name": "stdout",
     "output_type": "stream",
     "text": [
      "(76312, 2) (43199, 2) (10080, 2) (23033, 2)\n"
     ]
    },
    {
     "data": {
      "text/plain": [
       "True"
      ]
     },
     "execution_count": 31,
     "metadata": {},
     "output_type": "execute_result"
    }
   ],
   "source": [
    "xrp_min = pd.read_csv(\"data/minute.csv\")[['time', 'XRP_price']]\n",
    "train_min = xrp_min[xrp_min.time <= \"2022-02-06\"]\n",
    "valid_min = xrp_min[(xrp_min.time > \"2022-02-06\") & (xrp_min.time <= \"2022-02-13\")]\n",
    "test_min = xrp_min[xrp_min.time > \"2022-02-13\"]\n",
    "print(xrp_min.shape, train_min.shape, valid_min.shape, test_min.shape)\n",
    "train_min.shape[0] +  valid_min.shape[0] + test_min.shape[0] == xrp_min.shape[0]"
   ]
  },
  {
   "cell_type": "code",
   "execution_count": 32,
   "id": "19d640b1",
   "metadata": {},
   "outputs": [
    {
     "data": {
      "text/html": [
       "<div>\n",
       "<style scoped>\n",
       "    .dataframe tbody tr th:only-of-type {\n",
       "        vertical-align: middle;\n",
       "    }\n",
       "\n",
       "    .dataframe tbody tr th {\n",
       "        vertical-align: top;\n",
       "    }\n",
       "\n",
       "    .dataframe thead th {\n",
       "        text-align: right;\n",
       "    }\n",
       "</style>\n",
       "<table border=\"1\" class=\"dataframe\">\n",
       "  <thead>\n",
       "    <tr style=\"text-align: right;\">\n",
       "      <th></th>\n",
       "      <th>time</th>\n",
       "      <th>XRP_price</th>\n",
       "    </tr>\n",
       "  </thead>\n",
       "  <tbody>\n",
       "    <tr>\n",
       "      <th>0</th>\n",
       "      <td>2022-01-07 00:01:00</td>\n",
       "      <td>0.72640</td>\n",
       "    </tr>\n",
       "    <tr>\n",
       "      <th>1</th>\n",
       "      <td>2022-01-07 00:02:00</td>\n",
       "      <td>0.72640</td>\n",
       "    </tr>\n",
       "    <tr>\n",
       "      <th>2</th>\n",
       "      <td>2022-01-07 00:03:00</td>\n",
       "      <td>0.72645</td>\n",
       "    </tr>\n",
       "    <tr>\n",
       "      <th>3</th>\n",
       "      <td>2022-01-07 00:04:00</td>\n",
       "      <td>0.72665</td>\n",
       "    </tr>\n",
       "    <tr>\n",
       "      <th>4</th>\n",
       "      <td>2022-01-07 00:05:00</td>\n",
       "      <td>0.72665</td>\n",
       "    </tr>\n",
       "    <tr>\n",
       "      <th>...</th>\n",
       "      <td>...</td>\n",
       "      <td>...</td>\n",
       "    </tr>\n",
       "    <tr>\n",
       "      <th>76307</th>\n",
       "      <td>2022-02-28 23:48:00</td>\n",
       "      <td>0.77130</td>\n",
       "    </tr>\n",
       "    <tr>\n",
       "      <th>76308</th>\n",
       "      <td>2022-02-28 23:49:00</td>\n",
       "      <td>0.77125</td>\n",
       "    </tr>\n",
       "    <tr>\n",
       "      <th>76309</th>\n",
       "      <td>2022-02-28 23:50:00</td>\n",
       "      <td>0.77100</td>\n",
       "    </tr>\n",
       "    <tr>\n",
       "      <th>76310</th>\n",
       "      <td>2022-02-28 23:51:00</td>\n",
       "      <td>0.77065</td>\n",
       "    </tr>\n",
       "    <tr>\n",
       "      <th>76311</th>\n",
       "      <td>2022-02-28 23:52:00</td>\n",
       "      <td>0.77055</td>\n",
       "    </tr>\n",
       "  </tbody>\n",
       "</table>\n",
       "<p>76312 rows × 2 columns</p>\n",
       "</div>"
      ],
      "text/plain": [
       "                      time  XRP_price\n",
       "0      2022-01-07 00:01:00    0.72640\n",
       "1      2022-01-07 00:02:00    0.72640\n",
       "2      2022-01-07 00:03:00    0.72645\n",
       "3      2022-01-07 00:04:00    0.72665\n",
       "4      2022-01-07 00:05:00    0.72665\n",
       "...                    ...        ...\n",
       "76307  2022-02-28 23:48:00    0.77130\n",
       "76308  2022-02-28 23:49:00    0.77125\n",
       "76309  2022-02-28 23:50:00    0.77100\n",
       "76310  2022-02-28 23:51:00    0.77065\n",
       "76311  2022-02-28 23:52:00    0.77055\n",
       "\n",
       "[76312 rows x 2 columns]"
      ]
     },
     "execution_count": 32,
     "metadata": {},
     "output_type": "execute_result"
    }
   ],
   "source": [
    "xrp_min"
   ]
  },
  {
   "cell_type": "code",
   "execution_count": 33,
   "id": "df2a9bc3",
   "metadata": {},
   "outputs": [
    {
     "data": {
      "text/plain": [
       "<AxesSubplot:>"
      ]
     },
     "execution_count": 33,
     "metadata": {},
     "output_type": "execute_result"
    },
    {
     "data": {
      "image/png": "[encoded data removed]",
      "text/plain": [
       "<Figure size 432x288 with 1 Axes>"
      ]
     },
     "metadata": {
      "needs_background": "light"
     },
     "output_type": "display_data"
    }
   ],
   "source": [
    "xrp['XRP_price'].plot()"
   ]
  },
  {
   "cell_type": "markdown",
   "id": "f49d8669",
   "metadata": {},
   "source": [
    "## AR (min)"
   ]
  },
  {
   "cell_type": "code",
   "execution_count": 34,
   "id": "f324a2aa",
   "metadata": {},
   "outputs": [
    {
     "name": "stdout",
     "output_type": "stream",
     "text": [
      "                            AutoReg Model Results                             \n",
      "==============================================================================\n",
      "Dep. Variable:              XRP_price   No. Observations:                43199\n",
      "Model:                     AutoReg(1)   Log Likelihood              245286.497\n",
      "Method:               Conditional MLE   S.D. of innovations              0.001\n",
      "Date:                Tue, 15 Mar 2022   AIC                        -490566.994\n",
      "Time:                        18:40:05   BIC                        -490540.973\n",
      "Sample:                             1   HQIC                       -490558.787\n",
      "                                43199                                         \n",
      "================================================================================\n",
      "                   coef    std err          z      P>|z|      [0.025      0.975]\n",
      "--------------------------------------------------------------------------------\n",
      "const         6.419e-05   5.64e-05      1.138      0.255   -4.64e-05       0.000\n",
      "XRP_price.L1     0.9999    7.3e-05   1.37e+04      0.000       1.000       1.000\n",
      "                                    Roots                                    \n",
      "=============================================================================\n",
      "                  Real          Imaginary           Modulus         Frequency\n",
      "-----------------------------------------------------------------------------\n",
      "AR.1            1.0001           +0.0000j            1.0001            0.0000\n",
      "-----------------------------------------------------------------------------\n"
     ]
    }
   ],
   "source": [
    "ar_model1 = AutoReg(train_min['XRP_price'], lags=1).fit()\n",
    "print(ar_model1.summary())"
   ]
  },
  {
   "cell_type": "code",
   "execution_count": 35,
   "id": "07a6f246",
   "metadata": {},
   "outputs": [
    {
     "name": "stdout",
     "output_type": "stream",
     "text": [
      "                            AutoReg Model Results                             \n",
      "==============================================================================\n",
      "Dep. Variable:              XRP_price   No. Observations:                43199\n",
      "Model:                     AutoReg(5)   Log Likelihood              256239.197\n",
      "Method:               Conditional MLE   S.D. of innovations              0.001\n",
      "Date:                Tue, 15 Mar 2022   AIC                        -512464.394\n",
      "Time:                        18:40:06   BIC                        -512403.680\n",
      "Sample:                             5   HQIC                       -512445.245\n",
      "                                43199                                         \n",
      "================================================================================\n",
      "                   coef    std err          z      P>|z|      [0.025      0.975]\n",
      "--------------------------------------------------------------------------------\n",
      "const         7.444e-05   4.38e-05      1.701      0.089   -1.13e-05       0.000\n",
      "XRP_price.L1     1.8002      0.005    380.258      0.000       1.791       1.810\n",
      "XRP_price.L2    -1.3961      0.010   -146.894      0.000      -1.415      -1.378\n",
      "XRP_price.L3     0.9714      0.011     91.133      0.000       0.951       0.992\n",
      "XRP_price.L4    -0.5541      0.010    -58.303      0.000      -0.573      -0.536\n",
      "XRP_price.L5     0.1786      0.005     37.714      0.000       0.169       0.188\n",
      "                                    Roots                                    \n",
      "=============================================================================\n",
      "                  Real          Imaginary           Modulus         Frequency\n",
      "-----------------------------------------------------------------------------\n",
      "AR.1           -0.2668           -1.4631j            1.4873           -0.2787\n",
      "AR.2           -0.2668           +1.4631j            1.4873            0.2787\n",
      "AR.3            1.0002           -0.0000j            1.0002           -0.0000\n",
      "AR.4            1.3184           -0.8907j            1.5911           -0.0946\n",
      "AR.5            1.3184           +0.8907j            1.5911            0.0946\n",
      "-----------------------------------------------------------------------------\n"
     ]
    }
   ],
   "source": [
    "ar_model5 = AutoReg(train_min['XRP_price'], lags=5).fit()\n",
    "print(ar_model5.summary())"
   ]
  },
  {
   "cell_type": "code",
   "execution_count": 36,
   "id": "071fa81e",
   "metadata": {},
   "outputs": [
    {
     "name": "stdout",
     "output_type": "stream",
     "text": [
      "                            AutoReg Model Results                             \n",
      "==============================================================================\n",
      "Dep. Variable:              XRP_price   No. Observations:                76312\n",
      "Model:                    AutoReg(30)   Log Likelihood              464716.130\n",
      "Method:               Conditional MLE   S.D. of innovations              0.001\n",
      "Date:                Tue, 15 Mar 2022   AIC                        -929368.259\n",
      "Time:                        18:40:07   BIC                        -929072.509\n",
      "Sample:                            30   HQIC                       -929277.400\n",
      "                                76312                                         \n",
      "=================================================================================\n",
      "                    coef    std err          z      P>|z|      [0.025      0.975]\n",
      "---------------------------------------------------------------------------------\n",
      "const          2.949e-05   1.75e-05      1.685      0.092   -4.81e-06    6.38e-05\n",
      "XRP_price.L1      1.8699      0.004    516.472      0.000       1.863       1.877\n",
      "XRP_price.L2     -1.6113      0.008   -209.871      0.000      -1.626      -1.596\n",
      "XRP_price.L3      1.3557      0.010    140.599      0.000       1.337       1.375\n",
      "XRP_price.L4     -1.1316      0.011   -104.583      0.000      -1.153      -1.110\n",
      "XRP_price.L5      0.9571      0.012     82.730      0.000       0.934       0.980\n",
      "XRP_price.L6     -0.8031      0.012    -66.497      0.000      -0.827      -0.779\n",
      "XRP_price.L7      0.6671      0.012     53.713      0.000       0.643       0.691\n",
      "XRP_price.L8     -0.5465      0.013    -43.198      0.000      -0.571      -0.522\n",
      "XRP_price.L9      0.4422      0.013     34.535      0.000       0.417       0.467\n",
      "XRP_price.L10    -0.3786      0.013    -29.345      0.000      -0.404      -0.353\n",
      "XRP_price.L11     0.3204      0.013     24.700      0.000       0.295       0.346\n",
      "XRP_price.L12    -0.2702      0.013    -20.750      0.000      -0.296      -0.245\n",
      "XRP_price.L13     0.2257      0.013     17.291      0.000       0.200       0.251\n",
      "XRP_price.L14    -0.1770      0.013    -13.538      0.000      -0.203      -0.151\n",
      "XRP_price.L15     0.1468      0.013     11.218      0.000       0.121       0.172\n",
      "XRP_price.L16    -0.1204      0.013     -9.204      0.000      -0.146      -0.095\n",
      "XRP_price.L17     0.0983      0.013      7.515      0.000       0.073       0.124\n",
      "XRP_price.L18    -0.0819      0.013     -6.274      0.000      -0.107      -0.056\n",
      "XRP_price.L19     0.0733      0.013      5.628      0.000       0.048       0.099\n",
      "XRP_price.L20    -0.0588      0.013     -4.536      0.000      -0.084      -0.033\n",
      "XRP_price.L21     0.0513      0.013      3.976      0.000       0.026       0.077\n",
      "XRP_price.L22    -0.0555      0.013     -4.337      0.000      -0.081      -0.030\n",
      "XRP_price.L23     0.0534      0.013      4.219      0.000       0.029       0.078\n",
      "XRP_price.L24    -0.0509      0.012     -4.099      0.000      -0.075      -0.027\n",
      "XRP_price.L25     0.0390      0.012      3.229      0.001       0.015       0.063\n",
      "XRP_price.L26    -0.0229      0.012     -1.980      0.048      -0.046      -0.000\n",
      "XRP_price.L27     0.0162      0.011      1.495      0.135      -0.005       0.037\n",
      "XRP_price.L28    -0.0101      0.010     -1.044      0.296      -0.029       0.009\n",
      "XRP_price.L29     0.0088      0.008      1.140      0.254      -0.006       0.024\n",
      "XRP_price.L30    -0.0064      0.004     -1.760      0.078      -0.013       0.001\n",
      "                                    Roots                                     \n",
      "==============================================================================\n",
      "                   Real          Imaginary           Modulus         Frequency\n",
      "------------------------------------------------------------------------------\n",
      "AR.1             1.0001           -0.0000j            1.0001           -0.0000\n",
      "AR.2             1.1515           -0.0000j            1.1515           -0.0000\n",
      "AR.3             1.1278           -0.2621j            1.1579           -0.0363\n",
      "AR.4             1.1278           +0.2621j            1.1579            0.0363\n",
      "AR.5             1.0719           -0.4672j            1.1693           -0.0654\n",
      "AR.6             1.0719           +0.4672j            1.1693            0.0654\n",
      "AR.7             0.9138           -0.6939j            1.1474           -0.1034\n",
      "AR.8             0.9138           +0.6939j            1.1474            0.1034\n",
      "AR.9             0.7369           -0.8850j            1.1516           -0.1395\n",
      "AR.10            0.7369           +0.8850j            1.1516            0.1395\n",
      "AR.11            0.5595           -1.0658j            1.2037           -0.1731\n",
      "AR.12            0.5595           +1.0658j            1.2037            0.1731\n",
      "AR.13            0.3479           -1.1435j            1.1952           -0.2030\n",
      "AR.14            0.3479           +1.1435j            1.1952            0.2030\n",
      "AR.15            0.1032           -1.2027j            1.2071           -0.2364\n",
      "AR.16            0.1032           +1.2027j            1.2071            0.2364\n",
      "AR.17           -0.1226           -1.1876j            1.1939           -0.2664\n",
      "AR.18           -0.1226           +1.1876j            1.1939            0.2664\n",
      "AR.19           -0.3780           -1.1164j            1.1787           -0.3020\n",
      "AR.20           -0.3780           +1.1164j            1.1787            0.3020\n",
      "AR.21           -0.6407           -0.9921j            1.1810           -0.3413\n",
      "AR.22           -0.6407           +0.9921j            1.1810            0.3413\n",
      "AR.23           -1.1617           -0.2443j            1.1871           -0.4670\n",
      "AR.24           -1.1617           +0.2443j            1.1871            0.4670\n",
      "AR.25           -1.0624           -0.5064j            1.1769           -0.4292\n",
      "AR.26           -1.0624           +0.5064j            1.1769            0.4292\n",
      "AR.27           -0.9300           -0.8092j            1.2328           -0.3860\n",
      "AR.28           -0.9300           +0.8092j            1.2328            0.3860\n",
      "AR.29           -0.9545           -0.9011j            1.3127           -0.3796\n",
      "AR.30           -0.9545           +0.9011j            1.3127            0.3796\n",
      "------------------------------------------------------------------------------\n"
     ]
    }
   ],
   "source": [
    "ar_model30 = AutoReg(xrp_min['XRP_price'], lags=30).fit()\n",
    "print(ar_model30.summary())"
   ]
  },
  {
   "cell_type": "code",
   "execution_count": 60,
   "id": "a6319bf8",
   "metadata": {},
   "outputs": [
    {
     "data": {
      "text/plain": [
       "(23033, 2)"
      ]
     },
     "execution_count": 60,
     "metadata": {},
     "output_type": "execute_result"
    }
   ],
   "source": [
    "test_min.shape"
   ]
  },
  {
   "cell_type": "code",
   "execution_count": 62,
   "id": "3cb69f95",
   "metadata": {},
   "outputs": [
    {
     "data": {
      "text/plain": [
       "(23033,)"
      ]
     },
     "execution_count": 62,
     "metadata": {},
     "output_type": "execute_result"
    }
   ],
   "source": [
    "x.shape"
   ]
  },
  {
   "cell_type": "code",
   "execution_count": 63,
   "id": "8523c397",
   "metadata": {},
   "outputs": [
    {
     "data": {
      "text/plain": [
       "(53279,)"
      ]
     },
     "execution_count": 63,
     "metadata": {},
     "output_type": "execute_result"
    }
   ],
   "source": [
    "forecast_min.shape"
   ]
  },
  {
   "cell_type": "code",
   "execution_count": 64,
   "id": "5fbb3b12",
   "metadata": {},
   "outputs": [
    {
     "data": {
      "text/plain": [
       "23033    0.796818\n",
       "23034    0.797342\n",
       "23035    0.796374\n",
       "23036    0.797501\n",
       "23037    0.796281\n",
       "           ...   \n",
       "76307    0.771353\n",
       "76308    0.771242\n",
       "76309    0.771240\n",
       "76310    0.770780\n",
       "76311    0.770531\n",
       "Length: 53279, dtype: float64"
      ]
     },
     "execution_count": 64,
     "metadata": {},
     "output_type": "execute_result"
    }
   ],
   "source": [
    "forecast_min"
   ]
  },
  {
   "cell_type": "code",
   "execution_count": 58,
   "id": "fbc363ca",
   "metadata": {},
   "outputs": [
    {
     "ename": "ValueError",
     "evalue": "x and y must have same first dimension, but have shapes (23033,) and (53279,)",
     "output_type": "error",
     "traceback": [
      "\u001b[1;31m---------------------------------------------------------------------------\u001b[0m",
      "\u001b[1;31mValueError\u001b[0m                                Traceback (most recent call last)",
      "\u001b[1;32m~\\AppData\\Local\\Temp/ipykernel_16216/73991658.py\u001b[0m in \u001b[0;36m<module>\u001b[1;34m\u001b[0m\n\u001b[0;32m      2\u001b[0m \u001b[0mx\u001b[0m \u001b[1;33m=\u001b[0m \u001b[0mnp\u001b[0m\u001b[1;33m.\u001b[0m\u001b[0marange\u001b[0m\u001b[1;33m(\u001b[0m\u001b[0mtest_min\u001b[0m\u001b[1;33m.\u001b[0m\u001b[0mshape\u001b[0m\u001b[1;33m[\u001b[0m\u001b[1;36m0\u001b[0m\u001b[1;33m]\u001b[0m\u001b[1;33m)\u001b[0m\u001b[1;33m\u001b[0m\u001b[1;33m\u001b[0m\u001b[0m\n\u001b[0;32m      3\u001b[0m \u001b[0mplt\u001b[0m\u001b[1;33m.\u001b[0m\u001b[0mplot\u001b[0m\u001b[1;33m(\u001b[0m\u001b[0mx\u001b[0m\u001b[1;33m,\u001b[0m \u001b[0mtest_min\u001b[0m\u001b[1;33m[\u001b[0m\u001b[1;34m'XRP_price'\u001b[0m\u001b[1;33m]\u001b[0m\u001b[1;33m,\u001b[0m \u001b[0mc\u001b[0m\u001b[1;33m=\u001b[0m\u001b[1;34m'blue'\u001b[0m\u001b[1;33m)\u001b[0m\u001b[1;33m\u001b[0m\u001b[1;33m\u001b[0m\u001b[0m\n\u001b[1;32m----> 4\u001b[1;33m \u001b[0mplt\u001b[0m\u001b[1;33m.\u001b[0m\u001b[0mplot\u001b[0m\u001b[1;33m(\u001b[0m\u001b[0mx\u001b[0m\u001b[1;33m,\u001b[0m \u001b[0mforecast_min\u001b[0m\u001b[1;33m.\u001b[0m\u001b[0mvalues\u001b[0m\u001b[1;33m,\u001b[0m \u001b[0mc\u001b[0m\u001b[1;33m=\u001b[0m\u001b[1;34m'green'\u001b[0m\u001b[1;33m)\u001b[0m\u001b[1;33m\u001b[0m\u001b[1;33m\u001b[0m\u001b[0m\n\u001b[0m\u001b[0;32m      5\u001b[0m \u001b[0mplt\u001b[0m\u001b[1;33m.\u001b[0m\u001b[0mshow\u001b[0m\u001b[1;33m(\u001b[0m\u001b[1;33m)\u001b[0m\u001b[1;33m\u001b[0m\u001b[1;33m\u001b[0m\u001b[0m\n",
      "\u001b[1;32m~\\Anaconda3\\lib\\site-packages\\matplotlib\\pyplot.py\u001b[0m in \u001b[0;36mplot\u001b[1;34m(scalex, scaley, data, *args, **kwargs)\u001b[0m\n\u001b[0;32m   2757\u001b[0m     return gca().plot(\n\u001b[0;32m   2758\u001b[0m         \u001b[1;33m*\u001b[0m\u001b[0margs\u001b[0m\u001b[1;33m,\u001b[0m \u001b[0mscalex\u001b[0m\u001b[1;33m=\u001b[0m\u001b[0mscalex\u001b[0m\u001b[1;33m,\u001b[0m \u001b[0mscaley\u001b[0m\u001b[1;33m=\u001b[0m\u001b[0mscaley\u001b[0m\u001b[1;33m,\u001b[0m\u001b[1;33m\u001b[0m\u001b[1;33m\u001b[0m\u001b[0m\n\u001b[1;32m-> 2759\u001b[1;33m         **({\"data\": data} if data is not None else {}), **kwargs)\n\u001b[0m\u001b[0;32m   2760\u001b[0m \u001b[1;33m\u001b[0m\u001b[0m\n\u001b[0;32m   2761\u001b[0m \u001b[1;33m\u001b[0m\u001b[0m\n",
      "\u001b[1;32m~\\Anaconda3\\lib\\site-packages\\matplotlib\\axes\\_axes.py\u001b[0m in \u001b[0;36mplot\u001b[1;34m(self, scalex, scaley, data, *args, **kwargs)\u001b[0m\n\u001b[0;32m   1630\u001b[0m         \"\"\"\n\u001b[0;32m   1631\u001b[0m         \u001b[0mkwargs\u001b[0m \u001b[1;33m=\u001b[0m \u001b[0mcbook\u001b[0m\u001b[1;33m.\u001b[0m\u001b[0mnormalize_kwargs\u001b[0m\u001b[1;33m(\u001b[0m\u001b[0mkwargs\u001b[0m\u001b[1;33m,\u001b[0m \u001b[0mmlines\u001b[0m\u001b[1;33m.\u001b[0m\u001b[0mLine2D\u001b[0m\u001b[1;33m)\u001b[0m\u001b[1;33m\u001b[0m\u001b[1;33m\u001b[0m\u001b[0m\n\u001b[1;32m-> 1632\u001b[1;33m         \u001b[0mlines\u001b[0m \u001b[1;33m=\u001b[0m \u001b[1;33m[\u001b[0m\u001b[1;33m*\u001b[0m\u001b[0mself\u001b[0m\u001b[1;33m.\u001b[0m\u001b[0m_get_lines\u001b[0m\u001b[1;33m(\u001b[0m\u001b[1;33m*\u001b[0m\u001b[0margs\u001b[0m\u001b[1;33m,\u001b[0m \u001b[0mdata\u001b[0m\u001b[1;33m=\u001b[0m\u001b[0mdata\u001b[0m\u001b[1;33m,\u001b[0m \u001b[1;33m**\u001b[0m\u001b[0mkwargs\u001b[0m\u001b[1;33m)\u001b[0m\u001b[1;33m]\u001b[0m\u001b[1;33m\u001b[0m\u001b[1;33m\u001b[0m\u001b[0m\n\u001b[0m\u001b[0;32m   1633\u001b[0m         \u001b[1;32mfor\u001b[0m \u001b[0mline\u001b[0m \u001b[1;32min\u001b[0m \u001b[0mlines\u001b[0m\u001b[1;33m:\u001b[0m\u001b[1;33m\u001b[0m\u001b[1;33m\u001b[0m\u001b[0m\n\u001b[0;32m   1634\u001b[0m             \u001b[0mself\u001b[0m\u001b[1;33m.\u001b[0m\u001b[0madd_line\u001b[0m\u001b[1;33m(\u001b[0m\u001b[0mline\u001b[0m\u001b[1;33m)\u001b[0m\u001b[1;33m\u001b[0m\u001b[1;33m\u001b[0m\u001b[0m\n",
      "\u001b[1;32m~\\Anaconda3\\lib\\site-packages\\matplotlib\\axes\\_base.py\u001b[0m in \u001b[0;36m__call__\u001b[1;34m(self, data, *args, **kwargs)\u001b[0m\n\u001b[0;32m    310\u001b[0m                 \u001b[0mthis\u001b[0m \u001b[1;33m+=\u001b[0m \u001b[0margs\u001b[0m\u001b[1;33m[\u001b[0m\u001b[1;36m0\u001b[0m\u001b[1;33m]\u001b[0m\u001b[1;33m,\u001b[0m\u001b[1;33m\u001b[0m\u001b[1;33m\u001b[0m\u001b[0m\n\u001b[0;32m    311\u001b[0m                 \u001b[0margs\u001b[0m \u001b[1;33m=\u001b[0m \u001b[0margs\u001b[0m\u001b[1;33m[\u001b[0m\u001b[1;36m1\u001b[0m\u001b[1;33m:\u001b[0m\u001b[1;33m]\u001b[0m\u001b[1;33m\u001b[0m\u001b[1;33m\u001b[0m\u001b[0m\n\u001b[1;32m--> 312\u001b[1;33m             \u001b[1;32myield\u001b[0m \u001b[1;32mfrom\u001b[0m \u001b[0mself\u001b[0m\u001b[1;33m.\u001b[0m\u001b[0m_plot_args\u001b[0m\u001b[1;33m(\u001b[0m\u001b[0mthis\u001b[0m\u001b[1;33m,\u001b[0m \u001b[0mkwargs\u001b[0m\u001b[1;33m)\u001b[0m\u001b[1;33m\u001b[0m\u001b[1;33m\u001b[0m\u001b[0m\n\u001b[0m\u001b[0;32m    313\u001b[0m \u001b[1;33m\u001b[0m\u001b[0m\n\u001b[0;32m    314\u001b[0m     \u001b[1;32mdef\u001b[0m \u001b[0mget_next_color\u001b[0m\u001b[1;33m(\u001b[0m\u001b[0mself\u001b[0m\u001b[1;33m)\u001b[0m\u001b[1;33m:\u001b[0m\u001b[1;33m\u001b[0m\u001b[1;33m\u001b[0m\u001b[0m\n",
      "\u001b[1;32m~\\Anaconda3\\lib\\site-packages\\matplotlib\\axes\\_base.py\u001b[0m in \u001b[0;36m_plot_args\u001b[1;34m(self, tup, kwargs, return_kwargs)\u001b[0m\n\u001b[0;32m    496\u001b[0m \u001b[1;33m\u001b[0m\u001b[0m\n\u001b[0;32m    497\u001b[0m         \u001b[1;32mif\u001b[0m \u001b[0mx\u001b[0m\u001b[1;33m.\u001b[0m\u001b[0mshape\u001b[0m\u001b[1;33m[\u001b[0m\u001b[1;36m0\u001b[0m\u001b[1;33m]\u001b[0m \u001b[1;33m!=\u001b[0m \u001b[0my\u001b[0m\u001b[1;33m.\u001b[0m\u001b[0mshape\u001b[0m\u001b[1;33m[\u001b[0m\u001b[1;36m0\u001b[0m\u001b[1;33m]\u001b[0m\u001b[1;33m:\u001b[0m\u001b[1;33m\u001b[0m\u001b[1;33m\u001b[0m\u001b[0m\n\u001b[1;32m--> 498\u001b[1;33m             raise ValueError(f\"x and y must have same first dimension, but \"\n\u001b[0m\u001b[0;32m    499\u001b[0m                              f\"have shapes {x.shape} and {y.shape}\")\n\u001b[0;32m    500\u001b[0m         \u001b[1;32mif\u001b[0m \u001b[0mx\u001b[0m\u001b[1;33m.\u001b[0m\u001b[0mndim\u001b[0m \u001b[1;33m>\u001b[0m \u001b[1;36m2\u001b[0m \u001b[1;32mor\u001b[0m \u001b[0my\u001b[0m\u001b[1;33m.\u001b[0m\u001b[0mndim\u001b[0m \u001b[1;33m>\u001b[0m \u001b[1;36m2\u001b[0m\u001b[1;33m:\u001b[0m\u001b[1;33m\u001b[0m\u001b[1;33m\u001b[0m\u001b[0m\n",
      "\u001b[1;31mValueError\u001b[0m: x and y must have same first dimension, but have shapes (23033,) and (53279,)"
     ]
    },
    {
     "data": {
      "image/png": "[encoded data removed]",
      "text/plain": [
       "<Figure size 432x288 with 1 Axes>"
      ]
     },
     "metadata": {
      "needs_background": "light"
     },
     "output_type": "display_data"
    }
   ],
   "source": [
    "forecast_min = ar_model30.predict(test_min.shape[0])\n",
    "x = np.arange(test_min.shape[0])\n",
    "plt.plot(x, test_min['XRP_price'], c='blue')\n",
    "plt.plot(x, forecast_min.values, c='green')\n",
    "plt.show()"
   ]
  },
  {
   "cell_type": "code",
   "execution_count": 57,
   "id": "7f71b793",
   "metadata": {},
   "outputs": [
    {
     "data": {
      "text/plain": [
       "23033    0.796818\n",
       "23034    0.797342\n",
       "23035    0.796374\n",
       "23036    0.797501\n",
       "23037    0.796281\n",
       "           ...   \n",
       "76307    0.771353\n",
       "76308    0.771242\n",
       "76309    0.771240\n",
       "76310    0.770780\n",
       "76311    0.770531\n",
       "Length: 53279, dtype: float64"
      ]
     },
     "execution_count": 57,
     "metadata": {},
     "output_type": "execute_result"
    }
   ],
   "source": [
    "forecast_min"
   ]
  },
  {
   "cell_type": "code",
   "execution_count": 48,
   "id": "088b7766",
   "metadata": {},
   "outputs": [
    {
     "data": {
      "text/plain": [
       "array([    0,     1,     2, ..., 23030, 23031, 23032])"
      ]
     },
     "execution_count": 48,
     "metadata": {},
     "output_type": "execute_result"
    }
   ],
   "source": [
    "x"
   ]
  },
  {
   "cell_type": "code",
   "execution_count": 50,
   "id": "5f3ab866",
   "metadata": {},
   "outputs": [
    {
     "data": {
      "text/plain": [
       "23033    0.796818\n",
       "23034    0.797342\n",
       "23035    0.796374\n",
       "23036    0.797501\n",
       "23037    0.796281\n",
       "           ...   \n",
       "76307    0.771353\n",
       "76308    0.771242\n",
       "76309    0.771240\n",
       "76310    0.770780\n",
       "76311    0.770531\n",
       "Length: 53279, dtype: float64"
      ]
     },
     "execution_count": 50,
     "metadata": {},
     "output_type": "execute_result"
    }
   ],
   "source": [
    "forecast_min"
   ]
  },
  {
   "cell_type": "markdown",
   "id": "6896808f",
   "metadata": {},
   "source": [
    "## AR (val)"
   ]
  },
  {
   "cell_type": "code",
   "execution_count": 37,
   "id": "2e0495be",
   "metadata": {},
   "outputs": [
    {
     "name": "stdout",
     "output_type": "stream",
     "text": [
      "(1271, 2) (719, 2) (168, 2) (384, 2)\n"
     ]
    },
    {
     "data": {
      "text/plain": [
       "True"
      ]
     },
     "execution_count": 37,
     "metadata": {},
     "output_type": "execute_result"
    }
   ],
   "source": [
    "xrp_val = pd.read_csv(\"data/hour.csv\")[['time', 'XRP_price']]\n",
    "train_val = xrp_val[xrp_val.time <= \"2022-02-06\"]\n",
    "valid_val = xrp_val[(xrp_val.time > \"2022-02-06\") & (xrp_val.time <= \"2022-02-13\")]\n",
    "test_val = xrp_val[xrp_val.time > \"2022-02-13\"]\n",
    "print(xrp_val.shape, train_val.shape, valid_val.shape, test_val.shape)\n",
    "train_val.shape[0] +  valid_val.shape[0] + test_val.shape[0] == xrp_val.shape[0]"
   ]
  },
  {
   "cell_type": "code",
   "execution_count": 38,
   "id": "4df560af",
   "metadata": {},
   "outputs": [
    {
     "name": "stdout",
     "output_type": "stream",
     "text": [
      "                            AutoReg Model Results                             \n",
      "==============================================================================\n",
      "Dep. Variable:              XRP_price   No. Observations:                  719\n",
      "Model:                     AutoReg(1)   Log Likelihood                2652.155\n",
      "Method:               Conditional MLE   S.D. of innovations              0.006\n",
      "Date:                Tue, 15 Mar 2022   AIC                          -5298.309\n",
      "Time:                        18:40:49   BIC                          -5284.580\n",
      "Sample:                             1   HQIC                         -5293.008\n",
      "                                  719                                         \n",
      "================================================================================\n",
      "                   coef    std err          z      P>|z|      [0.025      0.975]\n",
      "--------------------------------------------------------------------------------\n",
      "const            0.0033      0.003      1.025      0.305      -0.003       0.010\n",
      "XRP_price.L1     0.9957      0.004    241.829      0.000       0.988       1.004\n",
      "                                    Roots                                    \n",
      "=============================================================================\n",
      "                  Real          Imaginary           Modulus         Frequency\n",
      "-----------------------------------------------------------------------------\n",
      "AR.1            1.0043           +0.0000j            1.0043            0.0000\n",
      "-----------------------------------------------------------------------------\n"
     ]
    }
   ],
   "source": [
    "ar_model1 = AutoReg(train_val['XRP_price'], lags=1).fit()\n",
    "print(ar_model1.summary())"
   ]
  },
  {
   "cell_type": "code",
   "execution_count": 40,
   "id": "e9c85bca",
   "metadata": {},
   "outputs": [
    {
     "name": "stdout",
     "output_type": "stream",
     "text": [
      "                            AutoReg Model Results                             \n",
      "==============================================================================\n",
      "Dep. Variable:              XRP_price   No. Observations:                  719\n",
      "Model:                    AutoReg(12)   Log Likelihood                2819.783\n",
      "Method:               Conditional MLE   S.D. of innovations              0.004\n",
      "Date:                Tue, 15 Mar 2022   AIC                          -5611.567\n",
      "Time:                        18:41:36   BIC                          -5547.713\n",
      "Sample:                            12   HQIC                         -5586.895\n",
      "                                  719                                         \n",
      "=================================================================================\n",
      "                    coef    std err          z      P>|z|      [0.025      0.975]\n",
      "---------------------------------------------------------------------------------\n",
      "const             0.0049      0.003      1.940      0.052   -5.01e-05       0.010\n",
      "XRP_price.L1      1.8719      0.038     49.784      0.000       1.798       1.946\n",
      "XRP_price.L2     -1.6115      0.080    -20.266      0.000      -1.767      -1.456\n",
      "XRP_price.L3      1.4500      0.099     14.661      0.000       1.256       1.644\n",
      "XRP_price.L4     -1.3425      0.111    -12.075      0.000      -1.560      -1.125\n",
      "XRP_price.L5      1.2257      0.119     10.270      0.000       0.992       1.460\n",
      "XRP_price.L6     -1.0941      0.123     -8.861      0.000      -1.336      -0.852\n",
      "XRP_price.L7      0.8759      0.123      7.103      0.000       0.634       1.118\n",
      "XRP_price.L8     -0.6654      0.119     -5.593      0.000      -0.899      -0.432\n",
      "XRP_price.L9      0.5116      0.111      4.618      0.000       0.294       0.729\n",
      "XRP_price.L10    -0.3806      0.099     -3.863      0.000      -0.574      -0.187\n",
      "XRP_price.L11     0.1848      0.079      2.333      0.020       0.030       0.340\n",
      "XRP_price.L12    -0.0322      0.037     -0.858      0.391      -0.106       0.041\n",
      "                                    Roots                                     \n",
      "==============================================================================\n",
      "                   Real          Imaginary           Modulus         Frequency\n",
      "------------------------------------------------------------------------------\n",
      "AR.1            -0.9571           -0.6878j            1.1786           -0.4008\n",
      "AR.2            -0.9571           +0.6878j            1.1786            0.4008\n",
      "AR.3            -0.5469           -1.1030j            1.2311           -0.3233\n",
      "AR.4            -0.5469           +1.1030j            1.2311            0.3233\n",
      "AR.5             0.1700           -1.2198j            1.2316           -0.2280\n",
      "AR.6             0.1700           +1.2198j            1.2316            0.2280\n",
      "AR.7             0.8551           -1.0038j            1.3186           -0.1377\n",
      "AR.8             0.8551           +1.0038j            1.3186            0.1377\n",
      "AR.9             1.0145           -0.0000j            1.0145           -0.0000\n",
      "AR.10            1.2992           -0.3146j            1.3368           -0.0378\n",
      "AR.11            1.2992           +0.3146j            1.3368            0.0378\n",
      "AR.12            3.0859           -0.0000j            3.0859           -0.0000\n",
      "------------------------------------------------------------------------------\n"
     ]
    }
   ],
   "source": [
    "ar_model12 = AutoReg(train_val['XRP_price'], lags=12).fit()\n",
    "print(ar_model12.summary())"
   ]
  },
  {
   "cell_type": "markdown",
   "id": "42fb5539",
   "metadata": {},
   "source": [
    "## AR (dien)"
   ]
  },
  {
   "cell_type": "code",
   "execution_count": 41,
   "id": "2bc600c9",
   "metadata": {},
   "outputs": [
    {
     "name": "stdout",
     "output_type": "stream",
     "text": [
      "(52, 2) (30, 2) (7, 2) (15, 2)\n"
     ]
    },
    {
     "data": {
      "text/plain": [
       "True"
      ]
     },
     "execution_count": 41,
     "metadata": {},
     "output_type": "execute_result"
    }
   ],
   "source": [
    "xrp_day = pd.read_csv(\"data/day.csv\")[['time', 'XRP_price']]\n",
    "train_day = xrp_day[xrp_day.time <= \"2022-02-06\"]\n",
    "valid_day = xrp_day[(xrp_day.time > \"2022-02-06\") & (xrp_day.time <= \"2022-02-13\")]\n",
    "test_day = xrp_day[xrp_day.time > \"2022-02-13\"]\n",
    "print(xrp_day.shape, train_day.shape, valid_day.shape, test_day.shape)\n",
    "train_day.shape[0] +  valid_day.shape[0] + test_day.shape[0] == xrp_day.shape[0]"
   ]
  },
  {
   "cell_type": "code",
   "execution_count": 42,
   "id": "9665969c",
   "metadata": {},
   "outputs": [
    {
     "name": "stdout",
     "output_type": "stream",
     "text": [
      "                            AutoReg Model Results                             \n",
      "==============================================================================\n",
      "Dep. Variable:              XRP_price   No. Observations:                   30\n",
      "Model:                     AutoReg(1)   Log Likelihood                 193.585\n",
      "Method:               Conditional MLE   S.D. of innovations              0.000\n",
      "Date:                Tue, 15 Mar 2022   AIC                           -381.171\n",
      "Time:                        18:45:01   BIC                           -377.069\n",
      "Sample:                             1   HQIC                          -379.886\n",
      "                                   30                                         \n",
      "================================================================================\n",
      "                   coef    std err          z      P>|z|      [0.025      0.975]\n",
      "--------------------------------------------------------------------------------\n",
      "const            0.0818      0.053      1.536      0.125      -0.023       0.186\n",
      "XRP_price.L1     0.8924      0.070     12.737      0.000       0.755       1.030\n",
      "                                    Roots                                    \n",
      "=============================================================================\n",
      "                  Real          Imaginary           Modulus         Frequency\n",
      "-----------------------------------------------------------------------------\n",
      "AR.1            1.1206           +0.0000j            1.1206            0.0000\n",
      "-----------------------------------------------------------------------------\n"
     ]
    }
   ],
   "source": [
    "ar_model1 = AutoReg(train_day['XRP_price'], lags=1).fit()\n",
    "print(ar_model1.summary())"
   ]
  },
  {
   "cell_type": "code",
   "execution_count": 44,
   "id": "a7a4ba77",
   "metadata": {},
   "outputs": [
    {
     "name": "stdout",
     "output_type": "stream",
     "text": [
      "                            AutoReg Model Results                             \n",
      "==============================================================================\n",
      "Dep. Variable:              XRP_price   No. Observations:                   30\n",
      "Model:                     AutoReg(7)   Log Likelihood                 160.712\n",
      "Method:               Conditional MLE   S.D. of innovations              0.000\n",
      "Date:                Tue, 15 Mar 2022   AIC                           -303.423\n",
      "Time:                        18:45:37   BIC                           -293.204\n",
      "Sample:                             7   HQIC                          -300.853\n",
      "                                   30                                         \n",
      "================================================================================\n",
      "                   coef    std err          z      P>|z|      [0.025      0.975]\n",
      "--------------------------------------------------------------------------------\n",
      "const            0.1412      0.071      1.978      0.048       0.001       0.281\n",
      "XRP_price.L1     1.6768      0.216      7.771      0.000       1.254       2.100\n",
      "XRP_price.L2    -1.4320      0.396     -3.618      0.000      -2.208      -0.656\n",
      "XRP_price.L3     0.9917      0.464      2.138      0.033       0.082       1.901\n",
      "XRP_price.L4    -0.2596      0.493     -0.526      0.599      -1.227       0.708\n",
      "XRP_price.L5    -0.4266      0.459     -0.930      0.353      -1.326       0.473\n",
      "XRP_price.L6     0.4831      0.384      1.257      0.209      -0.270       1.236\n",
      "XRP_price.L7    -0.2192      0.196     -1.119      0.263      -0.603       0.165\n",
      "                                    Roots                                    \n",
      "=============================================================================\n",
      "                  Real          Imaginary           Modulus         Frequency\n",
      "-----------------------------------------------------------------------------\n",
      "AR.1           -1.4655           -0.0000j            1.4655           -0.5000\n",
      "AR.2           -0.1281           -1.0905j            1.0980           -0.2686\n",
      "AR.3           -0.1281           +1.0905j            1.0980            0.2686\n",
      "AR.4            1.0767           -0.3223j            1.1239           -0.0463\n",
      "AR.5            1.0767           +0.3223j            1.1239            0.0463\n",
      "AR.6            0.8860           -1.1221j            1.4297           -0.1436\n",
      "AR.7            0.8860           +1.1221j            1.4297            0.1436\n",
      "-----------------------------------------------------------------------------\n"
     ]
    }
   ],
   "source": [
    "ar_model7 = AutoReg(train_day['XRP_price'], lags=7).fit()\n",
    "print(ar_model7.summary())"
   ]
  },
  {
   "cell_type": "markdown",
   "id": "de0569a1",
   "metadata": {},
   "source": [
    "XRP BTC\n",
    "AR ARMA ARIMA GARCH\n",
    "MIN HOUR DAY"
   ]
  }
 ],
 "metadata": {
  "kernelspec": {
   "display_name": "Python 3 (ipykernel)",
   "language": "python",
   "name": "python3"
  },
  "language_info": {
   "codemirror_mode": {
    "name": "ipython",
    "version": 3
   },
   "file_extension": ".py",
   "mimetype": "text/x-python",
   "name": "python",
   "nbconvert_exporter": "python",
   "pygments_lexer": "ipython3",
   "version": "3.7.3"
  }
 },
 "nbformat": 4,
 "nbformat_minor": 5
}
