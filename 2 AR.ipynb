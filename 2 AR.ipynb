{
 "cells": [
  {
   "cell_type": "code",
   "execution_count": 8,
   "id": "2c6bb58c",
   "metadata": {},
   "outputs": [],
   "source": [
    "import pandas as pd\n",
    "import numpy as np\n",
    "import matplotlib.pyplot as plt\n",
    "from statsmodels.tsa.ar_model import AutoReg"
   ]
  },
  {
   "cell_type": "code",
   "execution_count": 10,
   "id": "8cee4cbe",
   "metadata": {},
   "outputs": [],
   "source": [
    "xrp = pd.read_csv(\"data/minute.csv\").XRP_price"
   ]
  },
  {
   "cell_type": "code",
   "execution_count": 12,
   "id": "f324a2aa",
   "metadata": {},
   "outputs": [
    {
     "name": "stdout",
     "output_type": "stream",
     "text": [
      "                            AutoReg Model Results                             \n",
      "==============================================================================\n",
      "Dep. Variable:              XRP_price   No. Observations:                76312\n",
      "Model:                     AutoReg(1)   Log Likelihood              443334.159\n",
      "Method:               Conditional MLE   S.D. of innovations              0.001\n",
      "Date:                Tue, 15 Mar 2022   AIC                        -886662.318\n",
      "Time:                        18:19:07   BIC                        -886634.590\n",
      "Sample:                             1   HQIC                       -886653.800\n",
      "                                76312                                         \n",
      "================================================================================\n",
      "                   coef    std err          z      P>|z|      [0.025      0.975]\n",
      "--------------------------------------------------------------------------------\n",
      "const         2.705e-05   2.32e-05      1.166      0.244   -1.84e-05    7.25e-05\n",
      "XRP_price.L1     1.0000   3.19e-05   3.14e+04      0.000       1.000       1.000\n",
      "                                    Roots                                    \n",
      "=============================================================================\n",
      "                  Real          Imaginary           Modulus         Frequency\n",
      "-----------------------------------------------------------------------------\n",
      "AR.1            1.0000           +0.0000j            1.0000            0.0000\n",
      "-----------------------------------------------------------------------------\n"
     ]
    },
    {
     "name": "stderr",
     "output_type": "stream",
     "text": [
      "/Users/mgaulia/miniforge3/envs/torch/lib/python3.8/site-packages/statsmodels/tsa/ar_model.py:1064: RuntimeWarning: divide by zero encountered in reciprocal\n",
      "  return np.roots(lag_repr) ** -1\n"
     ]
    }
   ],
   "source": [
    "ar_model = AutoReg(xrp, lags=1).fit()\n",
    "print(ar_model.summary())"
   ]
  },
  {
   "cell_type": "markdown",
   "id": "de0569a1",
   "metadata": {},
   "source": [
    "XRP BTC\n",
    "AR ARMA ARIMA GARCH\n",
    "MIN HOUR DAY"
   ]
  }
 ],
 "metadata": {
  "kernelspec": {
   "display_name": "Python 3 (ipykernel)",
   "language": "python",
   "name": "python3"
  },
  "language_info": {
   "codemirror_mode": {
    "name": "ipython",
    "version": 3
   },
   "file_extension": ".py",
   "mimetype": "text/x-python",
   "name": "python",
   "nbconvert_exporter": "python",
   "pygments_lexer": "ipython3",
   "version": "3.8.12"
  }
 },
 "nbformat": 4,
 "nbformat_minor": 5
}
