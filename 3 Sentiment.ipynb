{
 "cells": [
  {
   "cell_type": "code",
   "execution_count": 1,
   "id": "773356bf",
   "metadata": {},
   "outputs": [],
   "source": [
    "sentences = [\"VADER is smart, handsome, and funny.\",  # positive sentence example\n",
    "             \"VADER is smart, handsome, and funny!\",  # punctuation emphasis handled correctly (sentiment intensity adjusted)\n",
    "             \"VADER is very smart, handsome, and funny.\", # booster words handled correctly (sentiment intensity adjusted)\n",
    "             \"VADER is VERY SMART, handsome, and FUNNY.\",  # emphasis for ALLCAPS handled\n",
    "             \"VADER is VERY SMART, handsome, and FUNNY!!!\", # combination of signals - VADER appropriately adjusts intensity\n",
    "             \"VADER is VERY SMART, uber handsome, and FRIGGIN FUNNY!!!\", # booster words & punctuation make this close to ceiling for score\n",
    "             \"VADER is not smart, handsome, nor funny.\",  # negation sentence example\n",
    "             \"The book was good.\",  # positive sentence\n",
    "             \"At least it isn't a horrible book.\",  # negated negative sentence with contraction\n",
    "             \"The book was only kind of good.\", # qualified positive sentence is handled correctly (intensity adjusted)\n",
    "             \"The plot was good, but the characters are uncompelling and the dialog is not great.\", # mixed negation sentence\n",
    "             \"Today SUX!\",  # negative slang with capitalization emphasis\n",
    "             \"Today only kinda sux! But I'll get by, lol\", # mixed sentiment example with slang and constrastive conjunction \"but\"\n",
    "             \"Make sure you :) or :D today!\",  # emoticons handled\n",
    "             \"Catch utf-8 emoji such as such as 💘 and 💋 and 😁\",  # emojis handled\n",
    "             \"Not bad at all\"  # Capitalized negation\n",
    "             ]"
   ]
  },
  {
   "cell_type": "markdown",
   "id": "38bea010",
   "metadata": {},
   "source": [
    "## VaderSentiment"
   ]
  },
  {
   "cell_type": "markdown",
   "id": "de6a55ac",
   "metadata": {},
   "source": [
    "https://github.com/cjhutto/vaderSentiment"
   ]
  },
  {
   "cell_type": "code",
   "execution_count": 51,
   "id": "72ab6dca",
   "metadata": {},
   "outputs": [],
   "source": [
    "from vaderSentiment.vaderSentiment import SentimentIntensityAnalyzer\n",
    "analyzer = SentimentIntensityAnalyzer()"
   ]
  },
  {
   "cell_type": "code",
   "execution_count": 85,
   "id": "401cd9b7",
   "metadata": {},
   "outputs": [],
   "source": [
    "def get_vader_sentiment(text):\n",
    "    vs = analyzer.polarity_scores(s).pop('compound', None)\n",
    "    if vs > 0.05:\n",
    "        return 'POS'\n",
    "    \n",
    "    elif vs < -0.05:\n",
    "        return 'NEG'\n",
    "    \n",
    "    return 'NEU'"
   ]
  },
  {
   "cell_type": "code",
   "execution_count": 88,
   "id": "d9d36e8a",
   "metadata": {},
   "outputs": [
    {
     "name": "stdout",
     "output_type": "stream",
     "text": [
      "POS : VADER is smart, handsome, and funny.\n",
      "POS : VADER is smart, handsome, and funny!\n",
      "POS : VADER is very smart, handsome, and funny.\n",
      "POS : VADER is VERY SMART, handsome, and FUNNY.\n",
      "POS : VADER is VERY SMART, handsome, and FUNNY!!!\n",
      "POS : VADER is VERY SMART, uber handsome, and FRIGGIN FUNNY!!!\n",
      "NEG : VADER is not smart, handsome, nor funny.\n",
      "POS : The book was good.\n",
      "POS : At least it isn't a horrible book.\n",
      "POS : The book was only kind of good.\n",
      "NEG : The plot was good, but the characters are uncompelling and the dialog is not great.\n",
      "NEG : Today SUX!\n",
      "POS : Today only kinda sux! But I'll get by, lol\n",
      "POS : Make sure you :) or :D today!\n",
      "POS : Catch utf-8 emoji such as such as 💘 and 💋 and 😁\n",
      "POS : Not bad at all\n"
     ]
    }
   ],
   "source": [
    "for s in sentences:\n",
    "    print(get_vader_sentiment(s),\":\", s)"
   ]
  },
  {
   "cell_type": "markdown",
   "id": "a7b80949",
   "metadata": {},
   "source": [
    "## Transformers"
   ]
  },
  {
   "cell_type": "markdown",
   "id": "b6c0552e",
   "metadata": {},
   "source": [
    "https://github.com/cardiffnlp/tweeteval"
   ]
  },
  {
   "cell_type": "code",
   "execution_count": 78,
   "id": "fdd08f7d",
   "metadata": {},
   "outputs": [
    {
     "data": {
      "text/plain": [
       "('cardiffnlp/twitter-roberta-base-sentiment/tokenizer_config.json',\n",
       " 'cardiffnlp/twitter-roberta-base-sentiment/special_tokens_map.json',\n",
       " 'cardiffnlp/twitter-roberta-base-sentiment/vocab.json',\n",
       " 'cardiffnlp/twitter-roberta-base-sentiment/merges.txt',\n",
       " 'cardiffnlp/twitter-roberta-base-sentiment/added_tokens.json',\n",
       " 'cardiffnlp/twitter-roberta-base-sentiment/tokenizer.json')"
      ]
     },
     "execution_count": 78,
     "metadata": {},
     "output_type": "execute_result"
    }
   ],
   "source": [
    "from transformers import AutoModelForSequenceClassification\n",
    "from transformers import TFAutoModelForSequenceClassification\n",
    "from transformers import AutoTokenizer\n",
    "import numpy as np\n",
    "from scipy.special import softmax\n",
    "import csv\n",
    "import urllib.request\n",
    "\n",
    "MODELPATH = f\"cardiffnlp/twitter-roberta-base-sentiment\"\n",
    "\n",
    "tokenizer = AutoTokenizer.from_pretrained(MODELPATH)\n",
    "model = AutoModelForSequenceClassification.from_pretrained(MODELPATH)\n",
    "model.save_pretrained(MODELPATH)\n",
    "tokenizer.save_pretrained(MODELPATH)"
   ]
  },
  {
   "cell_type": "code",
   "execution_count": 79,
   "id": "9afdf1d4",
   "metadata": {},
   "outputs": [],
   "source": [
    "#https://raw.githubusercontent.com/cardiffnlp/tweeteval/main/datasets/sentiment/mapping.txt\n",
    "mapping = {0: 'NEG', 1: 'NEU', 2:'POS'}"
   ]
  },
  {
   "cell_type": "code",
   "execution_count": 80,
   "id": "f3787423",
   "metadata": {},
   "outputs": [],
   "source": [
    "def get_transformers_sentiment(text):\n",
    "    encoded_input = tokenizer(text, return_tensors='pt')\n",
    "    output = model(**encoded_input)\n",
    "    scores = output[0][0].detach().numpy()\n",
    "    scores = softmax(scores)\n",
    "\n",
    "    ranking = np.argsort(scores)\n",
    "    ranking = ranking[::-1][0]\n",
    "    result = mapping[ranking]\n",
    "    \n",
    "    return result"
   ]
  },
  {
   "cell_type": "code",
   "execution_count": 89,
   "id": "dce1a870",
   "metadata": {},
   "outputs": [
    {
     "name": "stdout",
     "output_type": "stream",
     "text": [
      "POS : VADER is smart, handsome, and funny.\n",
      "POS : VADER is smart, handsome, and funny!\n",
      "POS : VADER is very smart, handsome, and funny.\n",
      "POS : VADER is VERY SMART, handsome, and FUNNY.\n",
      "POS : VADER is VERY SMART, handsome, and FUNNY!!!\n",
      "POS : VADER is VERY SMART, uber handsome, and FRIGGIN FUNNY!!!\n",
      "NEG : VADER is not smart, handsome, nor funny.\n",
      "POS : The book was good.\n",
      "NEU : At least it isn't a horrible book.\n",
      "POS : The book was only kind of good.\n",
      "NEG : The plot was good, but the characters are uncompelling and the dialog is not great.\n",
      "NEU : Today SUX!\n",
      "NEU : Today only kinda sux! But I'll get by, lol\n",
      "POS : Make sure you :) or :D today!\n",
      "NEU : Catch utf-8 emoji such as such as 💘 and 💋 and 😁\n",
      "POS : Not bad at all\n"
     ]
    }
   ],
   "source": [
    "for s in sentences:\n",
    "    print(get_transformers_sentiment(s),\":\", s)"
   ]
  },
  {
   "cell_type": "markdown",
   "id": "840c0bb8",
   "metadata": {},
   "source": [
    "## Comparison"
   ]
  },
  {
   "cell_type": "code",
   "execution_count": 90,
   "id": "0f92ddc2",
   "metadata": {},
   "outputs": [
    {
     "name": "stdout",
     "output_type": "stream",
     "text": [
      "Matching?  True       Sentence:  VADER is smart, handsome, and funny.\n",
      "Vader:  POS       Transformers:  POS \n",
      "\n",
      "Matching?  True       Sentence:  VADER is smart, handsome, and funny!\n",
      "Vader:  POS       Transformers:  POS \n",
      "\n",
      "Matching?  True       Sentence:  VADER is very smart, handsome, and funny.\n",
      "Vader:  POS       Transformers:  POS \n",
      "\n",
      "Matching?  True       Sentence:  VADER is VERY SMART, handsome, and FUNNY.\n",
      "Vader:  POS       Transformers:  POS \n",
      "\n",
      "Matching?  True       Sentence:  VADER is VERY SMART, handsome, and FUNNY!!!\n",
      "Vader:  POS       Transformers:  POS \n",
      "\n",
      "Matching?  True       Sentence:  VADER is VERY SMART, uber handsome, and FRIGGIN FUNNY!!!\n",
      "Vader:  POS       Transformers:  POS \n",
      "\n",
      "Matching?  True       Sentence:  VADER is not smart, handsome, nor funny.\n",
      "Vader:  NEG       Transformers:  NEG \n",
      "\n",
      "Matching?  True       Sentence:  The book was good.\n",
      "Vader:  POS       Transformers:  POS \n",
      "\n",
      "Matching?  False       Sentence:  At least it isn't a horrible book.\n",
      "Vader:  POS       Transformers:  NEU \n",
      "\n",
      "Matching?  True       Sentence:  The book was only kind of good.\n",
      "Vader:  POS       Transformers:  POS \n",
      "\n",
      "Matching?  True       Sentence:  The plot was good, but the characters are uncompelling and the dialog is not great.\n",
      "Vader:  NEG       Transformers:  NEG \n",
      "\n",
      "Matching?  False       Sentence:  Today SUX!\n",
      "Vader:  NEG       Transformers:  NEU \n",
      "\n",
      "Matching?  False       Sentence:  Today only kinda sux! But I'll get by, lol\n",
      "Vader:  POS       Transformers:  NEU \n",
      "\n",
      "Matching?  True       Sentence:  Make sure you :) or :D today!\n",
      "Vader:  POS       Transformers:  POS \n",
      "\n",
      "Matching?  False       Sentence:  Catch utf-8 emoji such as such as 💘 and 💋 and 😁\n",
      "Vader:  POS       Transformers:  NEU \n",
      "\n",
      "Matching?  True       Sentence:  Not bad at all\n",
      "Vader:  POS       Transformers:  POS \n",
      "\n"
     ]
    }
   ],
   "source": [
    "for s in sentences:\n",
    "    v = get_vader_sentiment(s)\n",
    "    t = get_transformers_sentiment(s)\n",
    "    print(\"Matching? \", v == t, \"      Sentence: \", s)\n",
    "    print(\"Vader: \", v, \"     \", \"Transformers: \", t, \"\\n\")"
   ]
  }
 ],
 "metadata": {
  "kernelspec": {
   "display_name": "Python 3 (ipykernel)",
   "language": "python",
   "name": "python3"
  },
  "language_info": {
   "codemirror_mode": {
    "name": "ipython",
    "version": 3
   },
   "file_extension": ".py",
   "mimetype": "text/x-python",
   "name": "python",
   "nbconvert_exporter": "python",
   "pygments_lexer": "ipython3",
   "version": "3.8.12"
  }
 },
 "nbformat": 4,
 "nbformat_minor": 5
}
