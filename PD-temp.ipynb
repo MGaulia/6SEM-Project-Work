{
 "cells": [
  {
   "cell_type": "code",
   "execution_count": 1,
   "id": "e114dc1d",
   "metadata": {},
   "outputs": [],
   "source": [
    "import pandas as pd\n",
    "import matplotlib.pyplot as plt\n",
    "import numpy as np"
   ]
  },
  {
   "cell_type": "code",
   "execution_count": 2,
   "id": "e553f614",
   "metadata": {},
   "outputs": [],
   "source": [
    "d = pd.read_csv(\"XRP_stocktwits.csv\").iloc[:, :2]"
   ]
  },
  {
   "cell_type": "code",
   "execution_count": 3,
   "id": "704adf54",
   "metadata": {},
   "outputs": [
    {
     "data": {
      "text/html": [
       "<div>\n",
       "<style scoped>\n",
       "    .dataframe tbody tr th:only-of-type {\n",
       "        vertical-align: middle;\n",
       "    }\n",
       "\n",
       "    .dataframe tbody tr th {\n",
       "        vertical-align: top;\n",
       "    }\n",
       "\n",
       "    .dataframe thead th {\n",
       "        text-align: right;\n",
       "    }\n",
       "</style>\n",
       "<table border=\"1\" class=\"dataframe\">\n",
       "  <thead>\n",
       "    <tr style=\"text-align: right;\">\n",
       "      <th></th>\n",
       "      <th>timestamp</th>\n",
       "      <th>text</th>\n",
       "    </tr>\n",
       "  </thead>\n",
       "  <tbody>\n",
       "    <tr>\n",
       "      <th>0</th>\n",
       "      <td>2022-01-07T16:07:11.001494+00:00</td>\n",
       "      <td>$XRP.X</td>\n",
       "    </tr>\n",
       "    <tr>\n",
       "      <th>1</th>\n",
       "      <td>2022-01-07T16:07:53+00:00</td>\n",
       "      <td>$XRP.X https://www.sec.gov/news/press-release/...</td>\n",
       "    </tr>\n",
       "    <tr>\n",
       "      <th>2</th>\n",
       "      <td>2022-01-07T16:08:23.004062+00:00</td>\n",
       "      <td>$XRP.X This is a golden opportunity for us mul...</td>\n",
       "    </tr>\n",
       "    <tr>\n",
       "      <th>3</th>\n",
       "      <td>2022-01-07T16:16:34.000022+00:00</td>\n",
       "      <td>$XRP.X $ETH.X $BTC.X $ACH.X $HBAR.X ”LETS GO C...</td>\n",
       "    </tr>\n",
       "    <tr>\n",
       "      <th>4</th>\n",
       "      <td>2022-01-07T16:19:19.008041+00:00</td>\n",
       "      <td>$XRP.X $BTC.X $SPY I was looking for Biden’s l...</td>\n",
       "    </tr>\n",
       "    <tr>\n",
       "      <th>...</th>\n",
       "      <td>...</td>\n",
       "      <td>...</td>\n",
       "    </tr>\n",
       "    <tr>\n",
       "      <th>23191</th>\n",
       "      <td>2022-02-10T15:46:16.001345+00:00</td>\n",
       "      <td>$XRP.X why are we still at the same price as w...</td>\n",
       "    </tr>\n",
       "    <tr>\n",
       "      <th>23192</th>\n",
       "      <td>2022-02-10T15:50:07.000407+00:00</td>\n",
       "      <td>BEARISH DIV 1HR $BTC.X $XRP.X</td>\n",
       "    </tr>\n",
       "    <tr>\n",
       "      <th>23193</th>\n",
       "      <td>2022-02-10T15:50:16.000573+00:00</td>\n",
       "      <td>$XRP.X  Retail supply shock incoming Ripple is...</td>\n",
       "    </tr>\n",
       "    <tr>\n",
       "      <th>23194</th>\n",
       "      <td>2022-02-10T15:55:33.001638+00:00</td>\n",
       "      <td>$XRP.X how is this not at. 88 at least? Bitcoi...</td>\n",
       "    </tr>\n",
       "    <tr>\n",
       "      <th>23195</th>\n",
       "      <td>2022-02-10T15:55:35.003487+00:00</td>\n",
       "      <td>$BTC.X $ETH.X $DOGE.X $XRP.X tired of 20% gain...</td>\n",
       "    </tr>\n",
       "  </tbody>\n",
       "</table>\n",
       "<p>23196 rows × 2 columns</p>\n",
       "</div>"
      ],
      "text/plain": [
       "                              timestamp  \\\n",
       "0      2022-01-07T16:07:11.001494+00:00   \n",
       "1             2022-01-07T16:07:53+00:00   \n",
       "2      2022-01-07T16:08:23.004062+00:00   \n",
       "3      2022-01-07T16:16:34.000022+00:00   \n",
       "4      2022-01-07T16:19:19.008041+00:00   \n",
       "...                                 ...   \n",
       "23191  2022-02-10T15:46:16.001345+00:00   \n",
       "23192  2022-02-10T15:50:07.000407+00:00   \n",
       "23193  2022-02-10T15:50:16.000573+00:00   \n",
       "23194  2022-02-10T15:55:33.001638+00:00   \n",
       "23195  2022-02-10T15:55:35.003487+00:00   \n",
       "\n",
       "                                                    text  \n",
       "0                                                 $XRP.X  \n",
       "1      $XRP.X https://www.sec.gov/news/press-release/...  \n",
       "2      $XRP.X This is a golden opportunity for us mul...  \n",
       "3      $XRP.X $ETH.X $BTC.X $ACH.X $HBAR.X ”LETS GO C...  \n",
       "4      $XRP.X $BTC.X $SPY I was looking for Biden’s l...  \n",
       "...                                                  ...  \n",
       "23191  $XRP.X why are we still at the same price as w...  \n",
       "23192                      BEARISH DIV 1HR $BTC.X $XRP.X  \n",
       "23193  $XRP.X  Retail supply shock incoming Ripple is...  \n",
       "23194  $XRP.X how is this not at. 88 at least? Bitcoi...  \n",
       "23195  $BTC.X $ETH.X $DOGE.X $XRP.X tired of 20% gain...  \n",
       "\n",
       "[23196 rows x 2 columns]"
      ]
     },
     "execution_count": 3,
     "metadata": {},
     "output_type": "execute_result"
    }
   ],
   "source": [
    "d"
   ]
  }
 ],
 "metadata": {
  "kernelspec": {
   "display_name": "Python 3 (ipykernel)",
   "language": "python",
   "name": "python3"
  },
  "language_info": {
   "codemirror_mode": {
    "name": "ipython",
    "version": 3
   },
   "file_extension": ".py",
   "mimetype": "text/x-python",
   "name": "python",
   "nbconvert_exporter": "python",
   "pygments_lexer": "ipython3",
   "version": "3.9.9"
  }
 },
 "nbformat": 4,
 "nbformat_minor": 5
}
