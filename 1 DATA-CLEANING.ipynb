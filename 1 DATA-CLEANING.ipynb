{
 "cells": [
  {
   "cell_type": "code",
   "execution_count": 1,
   "id": "e114dc1d",
   "metadata": {},
   "outputs": [],
   "source": [
    "import numpy as np\n",
    "import pandas as pd"
   ]
  },
  {
   "cell_type": "markdown",
   "id": "b4cbba5a",
   "metadata": {},
   "source": [
    "## Tweets"
   ]
  },
  {
   "cell_type": "code",
   "execution_count": 2,
   "id": "e553f614",
   "metadata": {},
   "outputs": [
    {
     "data": {
      "text/plain": [
       "('2022-01-07T00:01:14.005660+00:00', '2022-02-28T23:52:34.006678')"
      ]
     },
     "execution_count": 2,
     "metadata": {},
     "output_type": "execute_result"
    }
   ],
   "source": [
    "xrp = pd.read_csv(\"raw_data/XRP_stocktwits.csv\").iloc[:, :2]\n",
    "min(xrp.timestamp), max(xrp.timestamp)\n",
    "# Need to filter > 2022 in other datasets"
   ]
  },
  {
   "cell_type": "code",
   "execution_count": 3,
   "id": "34b13ff1",
   "metadata": {},
   "outputs": [],
   "source": [
    "xrp.to_csv(\"data/xrp_tweets.csv\", index = False)"
   ]
  },
  {
   "cell_type": "markdown",
   "id": "1c86b6dd",
   "metadata": {},
   "source": [
    "## XRP price"
   ]
  },
  {
   "cell_type": "markdown",
   "id": "f3b1e5aa",
   "metadata": {},
   "source": [
    "### Day"
   ]
  },
  {
   "cell_type": "code",
   "execution_count": 4,
   "id": "13673591",
   "metadata": {},
   "outputs": [],
   "source": [
    "def clean_binance_data(filename):\n",
    "    df = pd.read_csv(filename, skiprows = 1)\n",
    "    print(\"Shape before:\", df.shape)\n",
    "    df = df.drop(['unix', 'symbol'], axis = 1)\n",
    "    df = df[df.date > \"2022-01-01\"]\n",
    "    print(\"Shape after:\", df.shape)\n",
    "    return df"
   ]
  },
  {
   "cell_type": "code",
   "execution_count": 5,
   "id": "eda3d21c",
   "metadata": {},
   "outputs": [
    {
     "name": "stdout",
     "output_type": "stream",
     "text": [
      "Shape before: (1398, 10)\n",
      "Shape after: (60, 8)\n"
     ]
    }
   ],
   "source": [
    "day = clean_binance_data('raw_data/Binance_XRPUSDT_d.csv')\n",
    "day.to_csv(\"data/XRPUSDT_day.csv\", index = False)"
   ]
  },
  {
   "cell_type": "code",
   "execution_count": 6,
   "id": "2795ea72",
   "metadata": {},
   "outputs": [
    {
     "name": "stdout",
     "output_type": "stream",
     "text": [
      "Shape before: (13808, 10)\n",
      "Shape after: (1417, 8)\n"
     ]
    }
   ],
   "source": [
    "hour = clean_binance_data('raw_data/Binance_XRPUSDT_1h.csv')\n",
    "hour.to_csv(\"data/XRPUSDT_hour.csv\", index = False)"
   ]
  },
  {
   "cell_type": "code",
   "execution_count": 7,
   "id": "dc1816f6",
   "metadata": {},
   "outputs": [
    {
     "name": "stdout",
     "output_type": "stream",
     "text": [
      "Shape before: (1124679, 10)\n",
      "Shape after: (85148, 8)\n"
     ]
    }
   ],
   "source": [
    "minute = clean_binance_data('raw_data/Binance_XRPUSDT_minute.csv')\n",
    "minute.to_csv(\"data/XRPUSDT_minute.csv\", index = False)"
   ]
  }
 ],
 "metadata": {
  "kernelspec": {
   "display_name": "Python 3 (ipykernel)",
   "language": "python",
   "name": "python3"
  },
  "language_info": {
   "codemirror_mode": {
    "name": "ipython",
    "version": 3
   },
   "file_extension": ".py",
   "mimetype": "text/x-python",
   "name": "python",
   "nbconvert_exporter": "python",
   "pygments_lexer": "ipython3",
   "version": "3.9.9"
  }
 },
 "nbformat": 4,
 "nbformat_minor": 5
}
