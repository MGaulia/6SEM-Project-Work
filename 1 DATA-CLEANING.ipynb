{
 "cells": [
  {
   "cell_type": "code",
   "execution_count": 1,
   "id": "e114dc1d",
   "metadata": {},
   "outputs": [],
   "source": [
    "import numpy as np\n",
    "import pandas as pd\n",
    "from functools import reduce"
   ]
  },
  {
   "cell_type": "markdown",
   "id": "b4cbba5a",
   "metadata": {},
   "source": [
    "## Tweets"
   ]
  },
  {
   "cell_type": "code",
   "execution_count": 2,
   "id": "e553f614",
   "metadata": {},
   "outputs": [
    {
     "data": {
      "text/plain": [
       "('2022-01-07T00:01:14.005660+00:00', '2022-02-28T23:52:34.006678')"
      ]
     },
     "execution_count": 2,
     "metadata": {},
     "output_type": "execute_result"
    }
   ],
   "source": [
    "xrp = pd.read_csv(\"raw_data/XRP_stocktwits.csv\").iloc[:, :2]\n",
    "min(xrp.timestamp), max(xrp.timestamp)\n",
    "# Need to filter > 2022 in other datasets"
   ]
  },
  {
   "cell_type": "code",
   "execution_count": 3,
   "id": "34b13ff1",
   "metadata": {},
   "outputs": [],
   "source": [
    "xrp.to_csv(\"data/xrp_tweets.csv\", index = False)"
   ]
  },
  {
   "cell_type": "markdown",
   "id": "1c86b6dd",
   "metadata": {},
   "source": [
    "### cryptodatadownload data"
   ]
  },
  {
   "cell_type": "code",
   "execution_count": 4,
   "id": "13673591",
   "metadata": {},
   "outputs": [],
   "source": [
    "def clean_binance_data(filename):\n",
    "    df = pd.read_csv(filename, skiprows = 1)\n",
    "    print(\"Shape before:\", df.shape)\n",
    "    df = df.drop(['unix', 'symbol'], axis = 1)\n",
    "    df = df[df.date > \"2022-01-01\"]\n",
    "    df[\"date\"] = pd.to_datetime(df.date)\n",
    "    df = df.sort_values(\"date\")\n",
    "    print(\"Shape after:\", df.shape)\n",
    "    return df"
   ]
  },
  {
   "cell_type": "markdown",
   "id": "7b3ecef0",
   "metadata": {},
   "source": [
    "#### XRP"
   ]
  },
  {
   "cell_type": "code",
   "execution_count": 5,
   "id": "eda3d21c",
   "metadata": {},
   "outputs": [
    {
     "name": "stdout",
     "output_type": "stream",
     "text": [
      "Shape before: (1398, 10)\n",
      "Shape after: (60, 8)\n"
     ]
    }
   ],
   "source": [
    "day_xrp = clean_binance_data('raw_data/Binance_XRPUSDT_d.csv')\n",
    "day_xrp.to_csv(\"data/XRPUSDT_day.csv\", index = False)"
   ]
  },
  {
   "cell_type": "code",
   "execution_count": 6,
   "id": "2795ea72",
   "metadata": {},
   "outputs": [
    {
     "name": "stdout",
     "output_type": "stream",
     "text": [
      "Shape before: (13808, 10)\n",
      "Shape after: (1417, 8)\n"
     ]
    }
   ],
   "source": [
    "hour_xrp = clean_binance_data('raw_data/Binance_XRPUSDT_1h.csv')\n",
    "hour_xrp.to_csv(\"data/XRPUSDT_hour.csv\", index = False)"
   ]
  },
  {
   "cell_type": "code",
   "execution_count": 7,
   "id": "dc1816f6",
   "metadata": {},
   "outputs": [
    {
     "name": "stdout",
     "output_type": "stream",
     "text": [
      "Shape before: (1124679, 10)\n",
      "Shape after: (85148, 8)\n"
     ]
    }
   ],
   "source": [
    "minute_xrp = clean_binance_data('raw_data/Binance_XRPUSDT_minute.csv')\n",
    "minute_xrp.to_csv(\"data/XRPUSDT_minute.csv\", index = False)"
   ]
  },
  {
   "cell_type": "markdown",
   "id": "41dc4a4a",
   "metadata": {},
   "source": [
    "#### BTC"
   ]
  },
  {
   "cell_type": "code",
   "execution_count": 8,
   "id": "31a9e913",
   "metadata": {},
   "outputs": [
    {
     "name": "stdout",
     "output_type": "stream",
     "text": [
      "Shape before: (1662, 10)\n",
      "Shape after: (63, 8)\n"
     ]
    }
   ],
   "source": [
    "day_btc = clean_binance_data('raw_data/Binance_BTCUSDT_d.csv')\n",
    "day_btc.to_csv(\"data/BTCUSDT_day.csv\", index = False)"
   ]
  },
  {
   "cell_type": "code",
   "execution_count": 9,
   "id": "345004e2",
   "metadata": {},
   "outputs": [
    {
     "name": "stdout",
     "output_type": "stream",
     "text": [
      "Shape before: (42464, 10)\n",
      "Shape after: (1489, 8)\n"
     ]
    }
   ],
   "source": [
    "hour_btc = clean_binance_data('raw_data/Binance_BTCUSDT_1h.csv')\n",
    "hour_btc.to_csv(\"data/BTCUSDT_hour.csv\", index = False)"
   ]
  },
  {
   "cell_type": "code",
   "execution_count": 10,
   "id": "a90e2ff7",
   "metadata": {},
   "outputs": [
    {
     "name": "stdout",
     "output_type": "stream",
     "text": [
      "Shape before: (1301250, 10)\n",
      "Shape after: (89496, 8)\n"
     ]
    }
   ],
   "source": [
    "minute_xrp = clean_binance_data('raw_data/Binance_BTCUSDT_minute.csv')\n",
    "minute_xrp.to_csv(\"data/BTCUSDT_minute.csv\", index = False)"
   ]
  },
  {
   "cell_type": "markdown",
   "id": "192bd3d8",
   "metadata": {},
   "source": [
    "### NASDAQ"
   ]
  },
  {
   "cell_type": "code",
   "execution_count": 13,
   "id": "79a75832",
   "metadata": {},
   "outputs": [],
   "source": [
    "def clean_nasdaq_yh_data(filename):\n",
    "    df = pd.read_csv(filename)\n",
    "    print(\"Shape before: \", df.shape)\n",
    "    df[\"Date\"] = pd.to_datetime(df.Date)\n",
    "    df = df[df[\"Date\"] > \"2022-01-01\"]\n",
    "    df = df.sort_values(\"Date\")\n",
    "    print(\"Shape after: \", df.shape)\n",
    "    return df"
   ]
  },
  {
   "cell_type": "markdown",
   "id": "4f27c0e5",
   "metadata": {},
   "source": [
    "#### Gold"
   ]
  },
  {
   "cell_type": "code",
   "execution_count": 15,
   "id": "22c288a0",
   "metadata": {},
   "outputs": [
    {
     "name": "stdout",
     "output_type": "stream",
     "text": [
      "Shape before:  (125, 6)\n",
      "Shape after:  (42, 6)\n"
     ]
    }
   ],
   "source": [
    "gold = clean_nasdaq_yh_data('raw_data/GOLDUSD.csv')\n",
    "gold.to_csv(\"data/GOLDUSD_day.csv\", index = False)"
   ]
  },
  {
   "cell_type": "markdown",
   "id": "dfd464d6",
   "metadata": {},
   "source": [
    "#### SNP500"
   ]
  },
  {
   "cell_type": "code",
   "execution_count": 17,
   "id": "c9d9e847",
   "metadata": {},
   "outputs": [
    {
     "name": "stdout",
     "output_type": "stream",
     "text": [
      "Shape before:  (125, 6)\n",
      "Shape after:  (42, 6)\n"
     ]
    }
   ],
   "source": [
    "snp = clean_nasdaq_yh_data('raw_data/SNP500USD.csv')\n",
    "snp.to_csv(\"data/SNP500USD_day.csv\", index = False)"
   ]
  },
  {
   "cell_type": "markdown",
   "id": "2447ff28",
   "metadata": {},
   "source": [
    "#### VIX "
   ]
  },
  {
   "cell_type": "code",
   "execution_count": 18,
   "id": "945ba206",
   "metadata": {},
   "outputs": [
    {
     "name": "stdout",
     "output_type": "stream",
     "text": [
      "Shape before:  (254, 7)\n",
      "Shape after:  (43, 7)\n"
     ]
    }
   ],
   "source": [
    "vix = clean_nasdaq_yh_data('raw_data/VIXUSD.csv')\n",
    "vix.to_csv('data/VIXUSD_day.csv', index = False)"
   ]
  },
  {
   "cell_type": "markdown",
   "id": "ec3cb870",
   "metadata": {},
   "source": [
    "### Joined prices"
   ]
  },
  {
   "cell_type": "code",
   "execution_count": 19,
   "id": "633a813f",
   "metadata": {},
   "outputs": [],
   "source": [
    "day_xrp[\"price\"] = (day_xrp.open + day_xrp.high + day_xrp.low + day_xrp.close ) / 4\n",
    "day_btc[\"price\"] = (day_btc.open + day_btc.high + day_btc.low + day_btc.close ) / 4\n",
    "gold[\"price\"] = (gold.Open + gold.High + gold.Low + gold[\"Close/Last\"]) / 4\n",
    "snp[\"price\"] = (snp.Open + snp.High + snp.Low + snp[\"Close/Last\"]) / 4\n",
    "vix[\"price\"] = (vix.Open + vix.High + vix.Low + vix[\"Close\"]) / 4"
   ]
  },
  {
   "cell_type": "code",
   "execution_count": 20,
   "id": "b943957f",
   "metadata": {},
   "outputs": [],
   "source": [
    "xrpjoin = day_xrp[['date', 'price', 'Volume USDT', 'tradecount']].rename({'date':'Date', 'price':'xrp', 'Volume USDT': 'XRP_volume_usdt'}, axis = 1)\n",
    "btcjoin = day_btc[['date', 'price']].rename({'date':'Date', 'price':'btc'}, axis = 1)\n",
    "goldjoin = gold[['Date', 'price']].rename({ 'price':'gold'}, axis = 1)\n",
    "snpjoin = snp[['Date', 'price']].rename({'price':'snp'}, axis = 1)\n",
    "vixjoin = vix[['Date', 'price']].rename({ 'price':'vix'}, axis = 1)"
   ]
  },
  {
   "cell_type": "code",
   "execution_count": 21,
   "id": "a40a3bee",
   "metadata": {},
   "outputs": [
    {
     "name": "stdout",
     "output_type": "stream",
     "text": [
      "<class 'pandas.core.frame.DataFrame'>\n",
      "Int64Index: 40 entries, 0 to 39\n",
      "Data columns (total 8 columns):\n",
      " #   Column           Non-Null Count  Dtype         \n",
      "---  ------           --------------  -----         \n",
      " 0   Date             40 non-null     datetime64[ns]\n",
      " 1   xrp              40 non-null     float64       \n",
      " 2   XRP_volume_usdt  40 non-null     float64       \n",
      " 3   tradecount       40 non-null     int64         \n",
      " 4   btc              40 non-null     float64       \n",
      " 5   gold             40 non-null     float64       \n",
      " 6   snp              40 non-null     float64       \n",
      " 7   vix              40 non-null     float64       \n",
      "dtypes: datetime64[ns](1), float64(6), int64(1)\n",
      "memory usage: 2.8 KB\n"
     ]
    }
   ],
   "source": [
    "dfs_to_join = [xrpjoin, btcjoin, goldjoin, snpjoin, vixjoin]\n",
    "df = reduce(lambda left,right: pd.merge(left,right,on='Date'), dfs_to_join)\n",
    "df.info()"
   ]
  },
  {
   "cell_type": "code",
   "execution_count": 22,
   "id": "09daab6a",
   "metadata": {},
   "outputs": [],
   "source": [
    "df.to_csv(\"data/all_prices.csv\", index = False)"
   ]
  },
  {
   "cell_type": "code",
   "execution_count": 23,
   "id": "87873d30",
   "metadata": {},
   "outputs": [
    {
     "data": {
      "text/html": [
       "<div>\n",
       "<style scoped>\n",
       "    .dataframe tbody tr th:only-of-type {\n",
       "        vertical-align: middle;\n",
       "    }\n",
       "\n",
       "    .dataframe tbody tr th {\n",
       "        vertical-align: top;\n",
       "    }\n",
       "\n",
       "    .dataframe thead th {\n",
       "        text-align: right;\n",
       "    }\n",
       "</style>\n",
       "<table border=\"1\" class=\"dataframe\">\n",
       "  <thead>\n",
       "    <tr style=\"text-align: right;\">\n",
       "      <th></th>\n",
       "      <th>Date</th>\n",
       "      <th>xrp</th>\n",
       "      <th>XRP_volume_usdt</th>\n",
       "      <th>tradecount</th>\n",
       "      <th>btc</th>\n",
       "      <th>gold</th>\n",
       "      <th>snp</th>\n",
       "      <th>vix</th>\n",
       "    </tr>\n",
       "  </thead>\n",
       "  <tbody>\n",
       "    <tr>\n",
       "      <th>0</th>\n",
       "      <td>2022-01-03</td>\n",
       "      <td>0.842750</td>\n",
       "      <td>1.498761e+08</td>\n",
       "      <td>232484</td>\n",
       "      <td>46749.5700</td>\n",
       "      <td>1815.350</td>\n",
       "      <td>4782.3775</td>\n",
       "      <td>17.325000</td>\n",
       "    </tr>\n",
       "    <tr>\n",
       "      <th>1</th>\n",
       "      <td>2022-01-04</td>\n",
       "      <td>0.820050</td>\n",
       "      <td>1.776919e+08</td>\n",
       "      <td>270966</td>\n",
       "      <td>46333.9125</td>\n",
       "      <td>1807.750</td>\n",
       "      <td>4797.7350</td>\n",
       "      <td>16.907500</td>\n",
       "    </tr>\n",
       "    <tr>\n",
       "      <th>2</th>\n",
       "      <td>2022-01-05</td>\n",
       "      <td>0.785425</td>\n",
       "      <td>2.947838e+08</td>\n",
       "      <td>482373</td>\n",
       "      <td>44713.2850</td>\n",
       "      <td>1819.800</td>\n",
       "      <td>4746.4275</td>\n",
       "      <td>18.387500</td>\n",
       "    </tr>\n",
       "    <tr>\n",
       "      <th>3</th>\n",
       "      <td>2022-01-06</td>\n",
       "      <td>0.770050</td>\n",
       "      <td>2.344020e+08</td>\n",
       "      <td>415169</td>\n",
       "      <td>43195.0075</td>\n",
       "      <td>1799.200</td>\n",
       "      <td>4696.4275</td>\n",
       "      <td>20.010000</td>\n",
       "    </tr>\n",
       "    <tr>\n",
       "      <th>4</th>\n",
       "      <td>2022-01-07</td>\n",
       "      <td>0.762975</td>\n",
       "      <td>2.819197e+08</td>\n",
       "      <td>511973</td>\n",
       "      <td>42101.1525</td>\n",
       "      <td>1792.025</td>\n",
       "      <td>4686.3450</td>\n",
       "      <td>19.495000</td>\n",
       "    </tr>\n",
       "    <tr>\n",
       "      <th>5</th>\n",
       "      <td>2022-01-10</td>\n",
       "      <td>0.737125</td>\n",
       "      <td>2.287305e+08</td>\n",
       "      <td>359880</td>\n",
       "      <td>41396.4025</td>\n",
       "      <td>1796.625</td>\n",
       "      <td>4645.2225</td>\n",
       "      <td>20.400000</td>\n",
       "    </tr>\n",
       "    <tr>\n",
       "      <th>6</th>\n",
       "      <td>2022-01-11</td>\n",
       "      <td>0.754400</td>\n",
       "      <td>1.904475e+08</td>\n",
       "      <td>285391</td>\n",
       "      <td>42230.1775</td>\n",
       "      <td>1810.650</td>\n",
       "      <td>4683.6525</td>\n",
       "      <td>19.307500</td>\n",
       "    </tr>\n",
       "    <tr>\n",
       "      <th>7</th>\n",
       "      <td>2022-01-12</td>\n",
       "      <td>0.785475</td>\n",
       "      <td>2.311155e+08</td>\n",
       "      <td>330205</td>\n",
       "      <td>43350.9875</td>\n",
       "      <td>1822.800</td>\n",
       "      <td>4727.6200</td>\n",
       "      <td>17.960001</td>\n",
       "    </tr>\n",
       "    <tr>\n",
       "      <th>8</th>\n",
       "      <td>2022-01-13</td>\n",
       "      <td>0.782350</td>\n",
       "      <td>1.785449e+08</td>\n",
       "      <td>247605</td>\n",
       "      <td>43318.4950</td>\n",
       "      <td>1821.800</td>\n",
       "      <td>4696.7525</td>\n",
       "      <td>19.107500</td>\n",
       "    </tr>\n",
       "    <tr>\n",
       "      <th>9</th>\n",
       "      <td>2022-01-14</td>\n",
       "      <td>0.773050</td>\n",
       "      <td>1.707974e+08</td>\n",
       "      <td>242416</td>\n",
       "      <td>42698.2600</td>\n",
       "      <td>1820.525</td>\n",
       "      <td>4645.1800</td>\n",
       "      <td>20.105000</td>\n",
       "    </tr>\n",
       "    <tr>\n",
       "      <th>10</th>\n",
       "      <td>2022-01-18</td>\n",
       "      <td>0.754075</td>\n",
       "      <td>1.411723e+08</td>\n",
       "      <td>209700</td>\n",
       "      <td>42123.6875</td>\n",
       "      <td>1814.675</td>\n",
       "      <td>4602.5725</td>\n",
       "      <td>22.087501</td>\n",
       "    </tr>\n",
       "    <tr>\n",
       "      <th>11</th>\n",
       "      <td>2022-01-19</td>\n",
       "      <td>0.741375</td>\n",
       "      <td>1.407042e+08</td>\n",
       "      <td>214504</td>\n",
       "      <td>41927.4550</td>\n",
       "      <td>1829.900</td>\n",
       "      <td>4565.6350</td>\n",
       "      <td>23.202500</td>\n",
       "    </tr>\n",
       "    <tr>\n",
       "      <th>12</th>\n",
       "      <td>2022-01-20</td>\n",
       "      <td>0.734075</td>\n",
       "      <td>1.531215e+08</td>\n",
       "      <td>218718</td>\n",
       "      <td>41599.8050</td>\n",
       "      <td>1844.250</td>\n",
       "      <td>4527.5350</td>\n",
       "      <td>24.155000</td>\n",
       "    </tr>\n",
       "    <tr>\n",
       "      <th>13</th>\n",
       "      <td>2022-01-21</td>\n",
       "      <td>0.674100</td>\n",
       "      <td>4.106990e+08</td>\n",
       "      <td>579921</td>\n",
       "      <td>38416.6700</td>\n",
       "      <td>1838.275</td>\n",
       "      <td>4439.7950</td>\n",
       "      <td>27.332500</td>\n",
       "    </tr>\n",
       "    <tr>\n",
       "      <th>14</th>\n",
       "      <td>2022-01-24</td>\n",
       "      <td>0.605300</td>\n",
       "      <td>3.000197e+08</td>\n",
       "      <td>520142</td>\n",
       "      <td>35843.0175</td>\n",
       "      <td>1840.400</td>\n",
       "      <td>4351.6050</td>\n",
       "      <td>31.265000</td>\n",
       "    </tr>\n",
       "    <tr>\n",
       "      <th>15</th>\n",
       "      <td>2022-01-25</td>\n",
       "      <td>0.610325</td>\n",
       "      <td>1.929807e+08</td>\n",
       "      <td>298398</td>\n",
       "      <td>36716.2025</td>\n",
       "      <td>1848.625</td>\n",
       "      <td>4355.3025</td>\n",
       "      <td>32.107499</td>\n",
       "    </tr>\n",
       "    <tr>\n",
       "      <th>16</th>\n",
       "      <td>2022-01-26</td>\n",
       "      <td>0.625100</td>\n",
       "      <td>2.930465e+08</td>\n",
       "      <td>425965</td>\n",
       "      <td>37230.5675</td>\n",
       "      <td>1837.925</td>\n",
       "      <td>4379.0975</td>\n",
       "      <td>30.312500</td>\n",
       "    </tr>\n",
       "    <tr>\n",
       "      <th>17</th>\n",
       "      <td>2022-01-27</td>\n",
       "      <td>0.610525</td>\n",
       "      <td>1.766304e+08</td>\n",
       "      <td>264351</td>\n",
       "      <td>36677.2050</td>\n",
       "      <td>1808.225</td>\n",
       "      <td>4361.3325</td>\n",
       "      <td>31.025000</td>\n",
       "    </tr>\n",
       "    <tr>\n",
       "      <th>18</th>\n",
       "      <td>2022-01-28</td>\n",
       "      <td>0.606400</td>\n",
       "      <td>1.332087e+08</td>\n",
       "      <td>215447</td>\n",
       "      <td>37257.9200</td>\n",
       "      <td>1791.775</td>\n",
       "      <td>4373.3050</td>\n",
       "      <td>29.507500</td>\n",
       "    </tr>\n",
       "    <tr>\n",
       "      <th>19</th>\n",
       "      <td>2022-01-31</td>\n",
       "      <td>0.605775</td>\n",
       "      <td>1.274447e+08</td>\n",
       "      <td>202749</td>\n",
       "      <td>37931.3150</td>\n",
       "      <td>1793.975</td>\n",
       "      <td>4469.5625</td>\n",
       "      <td>26.827500</td>\n",
       "    </tr>\n",
       "    <tr>\n",
       "      <th>20</th>\n",
       "      <td>2022-02-01</td>\n",
       "      <td>0.621825</td>\n",
       "      <td>1.083256e+08</td>\n",
       "      <td>179180</td>\n",
       "      <td>38606.6725</td>\n",
       "      <td>1801.575</td>\n",
       "      <td>4525.0325</td>\n",
       "      <td>23.454999</td>\n",
       "    </tr>\n",
       "    <tr>\n",
       "      <th>21</th>\n",
       "      <td>2022-02-02</td>\n",
       "      <td>0.613975</td>\n",
       "      <td>1.148563e+08</td>\n",
       "      <td>195159</td>\n",
       "      <td>37758.4550</td>\n",
       "      <td>1804.425</td>\n",
       "      <td>4573.8500</td>\n",
       "      <td>21.710000</td>\n",
       "    </tr>\n",
       "    <tr>\n",
       "      <th>22</th>\n",
       "      <td>2022-02-03</td>\n",
       "      <td>0.602750</td>\n",
       "      <td>1.009039e+08</td>\n",
       "      <td>166019</td>\n",
       "      <td>36961.2450</td>\n",
       "      <td>1802.375</td>\n",
       "      <td>4506.5300</td>\n",
       "      <td>23.772499</td>\n",
       "    </tr>\n",
       "    <tr>\n",
       "      <th>23</th>\n",
       "      <td>2022-02-04</td>\n",
       "      <td>0.632225</td>\n",
       "      <td>1.646973e+08</td>\n",
       "      <td>234991</td>\n",
       "      <td>39421.3225</td>\n",
       "      <td>1805.275</td>\n",
       "      <td>4493.6200</td>\n",
       "      <td>23.830000</td>\n",
       "    </tr>\n",
       "    <tr>\n",
       "      <th>24</th>\n",
       "      <td>2022-02-07</td>\n",
       "      <td>0.756025</td>\n",
       "      <td>4.918757e+08</td>\n",
       "      <td>773279</td>\n",
       "      <td>43091.8025</td>\n",
       "      <td>1815.475</td>\n",
       "      <td>4495.7375</td>\n",
       "      <td>23.447500</td>\n",
       "    </tr>\n",
       "    <tr>\n",
       "      <th>25</th>\n",
       "      <td>2022-02-08</td>\n",
       "      <td>0.856325</td>\n",
       "      <td>8.969086e+08</td>\n",
       "      <td>1336231</td>\n",
       "      <td>44010.2450</td>\n",
       "      <td>1823.825</td>\n",
       "      <td>4499.5700</td>\n",
       "      <td>22.332500</td>\n",
       "    </tr>\n",
       "    <tr>\n",
       "      <th>26</th>\n",
       "      <td>2022-02-09</td>\n",
       "      <td>0.876025</td>\n",
       "      <td>5.491657e+08</td>\n",
       "      <td>803724</td>\n",
       "      <td>44083.1600</td>\n",
       "      <td>1831.550</td>\n",
       "      <td>4567.8025</td>\n",
       "      <td>20.614999</td>\n",
       "    </tr>\n",
       "    <tr>\n",
       "      <th>27</th>\n",
       "      <td>2022-02-10</td>\n",
       "      <td>0.853425</td>\n",
       "      <td>4.274147e+08</td>\n",
       "      <td>540824</td>\n",
       "      <td>44215.7900</td>\n",
       "      <td>1834.125</td>\n",
       "      <td>4532.6375</td>\n",
       "      <td>22.307500</td>\n",
       "    </tr>\n",
       "    <tr>\n",
       "      <th>28</th>\n",
       "      <td>2022-02-11</td>\n",
       "      <td>0.792075</td>\n",
       "      <td>3.885667e+08</td>\n",
       "      <td>519699</td>\n",
       "      <td>42931.9200</td>\n",
       "      <td>1839.400</td>\n",
       "      <td>4463.1625</td>\n",
       "      <td>26.517500</td>\n",
       "    </tr>\n",
       "    <tr>\n",
       "      <th>29</th>\n",
       "      <td>2022-02-14</td>\n",
       "      <td>0.799675</td>\n",
       "      <td>2.417014e+08</td>\n",
       "      <td>298362</td>\n",
       "      <td>42245.6375</td>\n",
       "      <td>1865.000</td>\n",
       "      <td>4401.3350</td>\n",
       "      <td>29.467500</td>\n",
       "    </tr>\n",
       "    <tr>\n",
       "      <th>30</th>\n",
       "      <td>2022-02-15</td>\n",
       "      <td>0.827175</td>\n",
       "      <td>2.313237e+08</td>\n",
       "      <td>292838</td>\n",
       "      <td>43564.8075</td>\n",
       "      <td>1864.250</td>\n",
       "      <td>4450.6000</td>\n",
       "      <td>26.802500</td>\n",
       "    </tr>\n",
       "    <tr>\n",
       "      <th>31</th>\n",
       "      <td>2022-02-16</td>\n",
       "      <td>0.837450</td>\n",
       "      <td>2.101754e+08</td>\n",
       "      <td>272890</td>\n",
       "      <td>44068.8450</td>\n",
       "      <td>1863.350</td>\n",
       "      <td>4462.4975</td>\n",
       "      <td>25.112500</td>\n",
       "    </tr>\n",
       "    <tr>\n",
       "      <th>32</th>\n",
       "      <td>2022-02-17</td>\n",
       "      <td>0.801000</td>\n",
       "      <td>3.006243e+08</td>\n",
       "      <td>377795</td>\n",
       "      <td>42156.7950</td>\n",
       "      <td>1886.925</td>\n",
       "      <td>4416.5475</td>\n",
       "      <td>26.517501</td>\n",
       "    </tr>\n",
       "    <tr>\n",
       "      <th>33</th>\n",
       "      <td>2022-02-18</td>\n",
       "      <td>0.778600</td>\n",
       "      <td>3.261209e+08</td>\n",
       "      <td>423084</td>\n",
       "      <td>40225.0075</td>\n",
       "      <td>1898.550</td>\n",
       "      <td>4363.8150</td>\n",
       "      <td>27.625000</td>\n",
       "    </tr>\n",
       "    <tr>\n",
       "      <th>34</th>\n",
       "      <td>2022-02-22</td>\n",
       "      <td>0.704475</td>\n",
       "      <td>4.170272e+08</td>\n",
       "      <td>503146</td>\n",
       "      <td>37504.3725</td>\n",
       "      <td>1904.725</td>\n",
       "      <td>4316.6825</td>\n",
       "      <td>30.262500</td>\n",
       "    </tr>\n",
       "    <tr>\n",
       "      <th>35</th>\n",
       "      <td>2022-02-23</td>\n",
       "      <td>0.713525</td>\n",
       "      <td>3.151582e+08</td>\n",
       "      <td>352974</td>\n",
       "      <td>37941.7650</td>\n",
       "      <td>1903.900</td>\n",
       "      <td>4278.3625</td>\n",
       "      <td>29.332500</td>\n",
       "    </tr>\n",
       "    <tr>\n",
       "      <th>36</th>\n",
       "      <td>2022-02-24</td>\n",
       "      <td>0.684275</td>\n",
       "      <td>6.493367e+08</td>\n",
       "      <td>776546</td>\n",
       "      <td>37435.6275</td>\n",
       "      <td>1923.325</td>\n",
       "      <td>4213.4625</td>\n",
       "      <td>33.765000</td>\n",
       "    </tr>\n",
       "    <tr>\n",
       "      <th>37</th>\n",
       "      <td>2022-02-25</td>\n",
       "      <td>0.732350</td>\n",
       "      <td>3.977397e+08</td>\n",
       "      <td>483216</td>\n",
       "      <td>38811.4375</td>\n",
       "      <td>1900.875</td>\n",
       "      <td>4338.8000</td>\n",
       "      <td>29.550000</td>\n",
       "    </tr>\n",
       "    <tr>\n",
       "      <th>38</th>\n",
       "      <td>2022-02-28</td>\n",
       "      <td>0.750950</td>\n",
       "      <td>3.310047e+08</td>\n",
       "      <td>411864</td>\n",
       "      <td>40633.7725</td>\n",
       "      <td>1912.275</td>\n",
       "      <td>4358.0175</td>\n",
       "      <td>31.132499</td>\n",
       "    </tr>\n",
       "    <tr>\n",
       "      <th>39</th>\n",
       "      <td>2022-03-01</td>\n",
       "      <td>0.782525</td>\n",
       "      <td>9.708564e+06</td>\n",
       "      <td>11106</td>\n",
       "      <td>43835.0450</td>\n",
       "      <td>1926.950</td>\n",
       "      <td>4331.8475</td>\n",
       "      <td>31.850000</td>\n",
       "    </tr>\n",
       "  </tbody>\n",
       "</table>\n",
       "</div>"
      ],
      "text/plain": [
       "         Date       xrp  XRP_volume_usdt  tradecount         btc      gold  \\\n",
       "0  2022-01-03  0.842750     1.498761e+08      232484  46749.5700  1815.350   \n",
       "1  2022-01-04  0.820050     1.776919e+08      270966  46333.9125  1807.750   \n",
       "2  2022-01-05  0.785425     2.947838e+08      482373  44713.2850  1819.800   \n",
       "3  2022-01-06  0.770050     2.344020e+08      415169  43195.0075  1799.200   \n",
       "4  2022-01-07  0.762975     2.819197e+08      511973  42101.1525  1792.025   \n",
       "5  2022-01-10  0.737125     2.287305e+08      359880  41396.4025  1796.625   \n",
       "6  2022-01-11  0.754400     1.904475e+08      285391  42230.1775  1810.650   \n",
       "7  2022-01-12  0.785475     2.311155e+08      330205  43350.9875  1822.800   \n",
       "8  2022-01-13  0.782350     1.785449e+08      247605  43318.4950  1821.800   \n",
       "9  2022-01-14  0.773050     1.707974e+08      242416  42698.2600  1820.525   \n",
       "10 2022-01-18  0.754075     1.411723e+08      209700  42123.6875  1814.675   \n",
       "11 2022-01-19  0.741375     1.407042e+08      214504  41927.4550  1829.900   \n",
       "12 2022-01-20  0.734075     1.531215e+08      218718  41599.8050  1844.250   \n",
       "13 2022-01-21  0.674100     4.106990e+08      579921  38416.6700  1838.275   \n",
       "14 2022-01-24  0.605300     3.000197e+08      520142  35843.0175  1840.400   \n",
       "15 2022-01-25  0.610325     1.929807e+08      298398  36716.2025  1848.625   \n",
       "16 2022-01-26  0.625100     2.930465e+08      425965  37230.5675  1837.925   \n",
       "17 2022-01-27  0.610525     1.766304e+08      264351  36677.2050  1808.225   \n",
       "18 2022-01-28  0.606400     1.332087e+08      215447  37257.9200  1791.775   \n",
       "19 2022-01-31  0.605775     1.274447e+08      202749  37931.3150  1793.975   \n",
       "20 2022-02-01  0.621825     1.083256e+08      179180  38606.6725  1801.575   \n",
       "21 2022-02-02  0.613975     1.148563e+08      195159  37758.4550  1804.425   \n",
       "22 2022-02-03  0.602750     1.009039e+08      166019  36961.2450  1802.375   \n",
       "23 2022-02-04  0.632225     1.646973e+08      234991  39421.3225  1805.275   \n",
       "24 2022-02-07  0.756025     4.918757e+08      773279  43091.8025  1815.475   \n",
       "25 2022-02-08  0.856325     8.969086e+08     1336231  44010.2450  1823.825   \n",
       "26 2022-02-09  0.876025     5.491657e+08      803724  44083.1600  1831.550   \n",
       "27 2022-02-10  0.853425     4.274147e+08      540824  44215.7900  1834.125   \n",
       "28 2022-02-11  0.792075     3.885667e+08      519699  42931.9200  1839.400   \n",
       "29 2022-02-14  0.799675     2.417014e+08      298362  42245.6375  1865.000   \n",
       "30 2022-02-15  0.827175     2.313237e+08      292838  43564.8075  1864.250   \n",
       "31 2022-02-16  0.837450     2.101754e+08      272890  44068.8450  1863.350   \n",
       "32 2022-02-17  0.801000     3.006243e+08      377795  42156.7950  1886.925   \n",
       "33 2022-02-18  0.778600     3.261209e+08      423084  40225.0075  1898.550   \n",
       "34 2022-02-22  0.704475     4.170272e+08      503146  37504.3725  1904.725   \n",
       "35 2022-02-23  0.713525     3.151582e+08      352974  37941.7650  1903.900   \n",
       "36 2022-02-24  0.684275     6.493367e+08      776546  37435.6275  1923.325   \n",
       "37 2022-02-25  0.732350     3.977397e+08      483216  38811.4375  1900.875   \n",
       "38 2022-02-28  0.750950     3.310047e+08      411864  40633.7725  1912.275   \n",
       "39 2022-03-01  0.782525     9.708564e+06       11106  43835.0450  1926.950   \n",
       "\n",
       "          snp        vix  \n",
       "0   4782.3775  17.325000  \n",
       "1   4797.7350  16.907500  \n",
       "2   4746.4275  18.387500  \n",
       "3   4696.4275  20.010000  \n",
       "4   4686.3450  19.495000  \n",
       "5   4645.2225  20.400000  \n",
       "6   4683.6525  19.307500  \n",
       "7   4727.6200  17.960001  \n",
       "8   4696.7525  19.107500  \n",
       "9   4645.1800  20.105000  \n",
       "10  4602.5725  22.087501  \n",
       "11  4565.6350  23.202500  \n",
       "12  4527.5350  24.155000  \n",
       "13  4439.7950  27.332500  \n",
       "14  4351.6050  31.265000  \n",
       "15  4355.3025  32.107499  \n",
       "16  4379.0975  30.312500  \n",
       "17  4361.3325  31.025000  \n",
       "18  4373.3050  29.507500  \n",
       "19  4469.5625  26.827500  \n",
       "20  4525.0325  23.454999  \n",
       "21  4573.8500  21.710000  \n",
       "22  4506.5300  23.772499  \n",
       "23  4493.6200  23.830000  \n",
       "24  4495.7375  23.447500  \n",
       "25  4499.5700  22.332500  \n",
       "26  4567.8025  20.614999  \n",
       "27  4532.6375  22.307500  \n",
       "28  4463.1625  26.517500  \n",
       "29  4401.3350  29.467500  \n",
       "30  4450.6000  26.802500  \n",
       "31  4462.4975  25.112500  \n",
       "32  4416.5475  26.517501  \n",
       "33  4363.8150  27.625000  \n",
       "34  4316.6825  30.262500  \n",
       "35  4278.3625  29.332500  \n",
       "36  4213.4625  33.765000  \n",
       "37  4338.8000  29.550000  \n",
       "38  4358.0175  31.132499  \n",
       "39  4331.8475  31.850000  "
      ]
     },
     "execution_count": 23,
     "metadata": {},
     "output_type": "execute_result"
    }
   ],
   "source": [
    "df"
   ]
  },
  {
   "cell_type": "code",
   "execution_count": null,
   "id": "4c42ff8f",
   "metadata": {},
   "outputs": [],
   "source": [
    "df = df.iloc[:, 1:]"
   ]
  },
  {
   "cell_type": "code",
   "execution_count": null,
   "id": "c6002324",
   "metadata": {},
   "outputs": [],
   "source": [
    "df.plot(figsize = (15, 7))"
   ]
  },
  {
   "cell_type": "code",
   "execution_count": null,
   "id": "ec739c34",
   "metadata": {},
   "outputs": [],
   "source": [
    "standartizeddf=(df-df.mean())/df.std(ddof = 1)"
   ]
  },
  {
   "cell_type": "code",
   "execution_count": null,
   "id": "871cfecf",
   "metadata": {},
   "outputs": [],
   "source": [
    "standartizeddf.plot(figsize = (15, 7))"
   ]
  }
 ],
 "metadata": {
  "kernelspec": {
   "display_name": "Python 3 (ipykernel)",
   "language": "python",
   "name": "python3"
  },
  "language_info": {
   "codemirror_mode": {
    "name": "ipython",
    "version": 3
   },
   "file_extension": ".py",
   "mimetype": "text/x-python",
   "name": "python",
   "nbconvert_exporter": "python",
   "pygments_lexer": "ipython3",
   "version": "3.9.7"
  }
 },
 "nbformat": 4,
 "nbformat_minor": 5
}
